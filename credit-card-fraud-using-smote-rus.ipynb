{
 "cells": [
  {
   "cell_type": "markdown",
   "id": "c37a5ae6",
   "metadata": {
    "papermill": {
     "duration": 0.010556,
     "end_time": "2023-01-06T14:54:04.730981",
     "exception": false,
     "start_time": "2023-01-06T14:54:04.720425",
     "status": "completed"
    },
    "tags": []
   },
   "source": [
    "# SMOTE(Synthetic Minority Over-Sampling Technique ):\n",
    "A dataset is imbalanced if the classes are not equally represented in a classification dataset.Especially in fraud detection. 1 out of 100s of transaction might be a fraud. Hence to tackle this issue we are using SMOTE to oversample the minority data( ie. Fraud transactions).\n",
    "\n",
    "SMOTE is an Oversampling technique that allows us to generate synthetic samples for our minority categories. The idea is based on the K-Nearest Neighbors algorithm. "
   ]
  },
  {
   "cell_type": "markdown",
   "id": "b131e1b6",
   "metadata": {
    "papermill": {
     "duration": 0.009021,
     "end_time": "2023-01-06T14:54:04.749521",
     "exception": false,
     "start_time": "2023-01-06T14:54:04.740500",
     "status": "completed"
    },
    "tags": []
   },
   "source": [
    "# Table of contents"
   ]
  },
  {
   "cell_type": "markdown",
   "id": "61e1b3e9",
   "metadata": {
    "papermill": {
     "duration": 0.008979,
     "end_time": "2023-01-06T14:54:04.767851",
     "exception": false,
     "start_time": "2023-01-06T14:54:04.758872",
     "status": "completed"
    },
    "tags": []
   },
   "source": [
    "1. Setup:\n",
    "  * Import relavent libraries\n",
    "  * Read the CSV file\n",
    "  * Undertand the characteristics of the df\n",
    "  * Drop Duplicates\n",
    "  * Visulization tools to understand the imbalance of classes\n",
    "  * Correlation plot\n",
    "  * Split the data into train and test set\n",
    "  * Scale the data using Standard Scaler\n",
    "  * SMOTE to oversample the minority class\n",
    "  * randomunder sampler to undersample the majority class\n",
    "  * **Random Forest for binary classification**\n",
    "   * Precision, recall, accuracy f1 score, roc-auc curve, precision recall curve\n",
    "  * **Logistic regression for classification**\n",
    "   * Precision, recall, accuracy f1 score, roc-auc curve, precision recall curve"
   ]
  },
  {
   "cell_type": "code",
   "execution_count": 1,
   "id": "d8c5c9dc",
   "metadata": {
    "_cell_guid": "b1076dfc-b9ad-4769-8c92-a6c4dae69d19",
    "_uuid": "8f2839f25d086af736a60e9eeb907d3b93b6e0e5",
    "execution": {
     "iopub.execute_input": "2023-01-06T14:54:04.789285Z",
     "iopub.status.busy": "2023-01-06T14:54:04.788523Z",
     "iopub.status.idle": "2023-01-06T14:54:07.006357Z",
     "shell.execute_reply": "2023-01-06T14:54:07.005052Z"
    },
    "papermill": {
     "duration": 2.231746,
     "end_time": "2023-01-06T14:54:07.009173",
     "exception": false,
     "start_time": "2023-01-06T14:54:04.777427",
     "status": "completed"
    },
    "tags": []
   },
   "outputs": [
    {
     "name": "stdout",
     "output_type": "stream",
     "text": [
      "/kaggle/input/creditcardfraud/creditcard.csv\n"
     ]
    }
   ],
   "source": [
    "# This Python 3 environment comes with many helpful analytics libraries installed\n",
    "# It is defined by the kaggle/python Docker image: https://github.com/kaggle/docker-python\n",
    "# For example, here's several helpful packages to load\n",
    "\n",
    "import numpy as np # linear algebra\n",
    "import pandas as pd # data processing, CSV file I/O (e.g. pd.read_csv)\n",
    "import matplotlib.pyplot as plt\n",
    "%matplotlib inline\n",
    "import plotly.express as px\n",
    "import seaborn as sns\n",
    "sns.set()\n",
    "from sklearn.model_selection import train_test_split\n",
    "from sklearn.preprocessing import StandardScaler\n",
    "\n",
    "import warnings\n",
    "warnings.filterwarnings('ignore')\n",
    "# Input data files are available in the read-only \"../input/\" directory\n",
    "# For example, running this (by clicking run or pressing Shift+Enter) will list all files under the input directory\n",
    "\n",
    "import os\n",
    "for dirname, _, filenames in os.walk('/kaggle/input'):\n",
    "    for filename in filenames:\n",
    "        print(os.path.join(dirname, filename))\n",
    "\n",
    "# You can write up to 20GB to the current directory (/kaggle/working/) that gets preserved as output when you create a version using \"Save & Run All\" \n",
    "# You can also write temporary files to /kaggle/temp/, but they won't be saved outside of the current session"
   ]
  },
  {
   "cell_type": "code",
   "execution_count": 2,
   "id": "d1739c99",
   "metadata": {
    "execution": {
     "iopub.execute_input": "2023-01-06T14:54:07.029637Z",
     "iopub.status.busy": "2023-01-06T14:54:07.029145Z",
     "iopub.status.idle": "2023-01-06T14:54:11.782227Z",
     "shell.execute_reply": "2023-01-06T14:54:11.781030Z"
    },
    "papermill": {
     "duration": 4.76643,
     "end_time": "2023-01-06T14:54:11.784957",
     "exception": false,
     "start_time": "2023-01-06T14:54:07.018527",
     "status": "completed"
    },
    "tags": []
   },
   "outputs": [],
   "source": [
    "#import the df\n",
    "raw_df=pd.read_csv('/kaggle/input/creditcardfraud/creditcard.csv')"
   ]
  },
  {
   "cell_type": "markdown",
   "id": "fcfe7ef5",
   "metadata": {
    "papermill": {
     "duration": 0.008872,
     "end_time": "2023-01-06T14:54:11.804481",
     "exception": false,
     "start_time": "2023-01-06T14:54:11.795609",
     "status": "completed"
    },
    "tags": []
   },
   "source": [
    "# EDA"
   ]
  },
  {
   "cell_type": "code",
   "execution_count": 3,
   "id": "7fc764f2",
   "metadata": {
    "execution": {
     "iopub.execute_input": "2023-01-06T14:54:11.824823Z",
     "iopub.status.busy": "2023-01-06T14:54:11.824402Z",
     "iopub.status.idle": "2023-01-06T14:54:11.832995Z",
     "shell.execute_reply": "2023-01-06T14:54:11.831945Z"
    },
    "papermill": {
     "duration": 0.02201,
     "end_time": "2023-01-06T14:54:11.835762",
     "exception": false,
     "start_time": "2023-01-06T14:54:11.813752",
     "status": "completed"
    },
    "tags": []
   },
   "outputs": [
    {
     "data": {
      "text/plain": [
       "(284807, 31)"
      ]
     },
     "execution_count": 3,
     "metadata": {},
     "output_type": "execute_result"
    }
   ],
   "source": [
    "raw_df.shape"
   ]
  },
  {
   "cell_type": "code",
   "execution_count": 4,
   "id": "8781fc0b",
   "metadata": {
    "execution": {
     "iopub.execute_input": "2023-01-06T14:54:11.856485Z",
     "iopub.status.busy": "2023-01-06T14:54:11.856078Z",
     "iopub.status.idle": "2023-01-06T14:54:11.903647Z",
     "shell.execute_reply": "2023-01-06T14:54:11.901817Z"
    },
    "papermill": {
     "duration": 0.061195,
     "end_time": "2023-01-06T14:54:11.906231",
     "exception": false,
     "start_time": "2023-01-06T14:54:11.845036",
     "status": "completed"
    },
    "tags": []
   },
   "outputs": [
    {
     "name": "stdout",
     "output_type": "stream",
     "text": [
      "<class 'pandas.core.frame.DataFrame'>\n",
      "RangeIndex: 284807 entries, 0 to 284806\n",
      "Data columns (total 31 columns):\n",
      " #   Column  Non-Null Count   Dtype  \n",
      "---  ------  --------------   -----  \n",
      " 0   Time    284807 non-null  float64\n",
      " 1   V1      284807 non-null  float64\n",
      " 2   V2      284807 non-null  float64\n",
      " 3   V3      284807 non-null  float64\n",
      " 4   V4      284807 non-null  float64\n",
      " 5   V5      284807 non-null  float64\n",
      " 6   V6      284807 non-null  float64\n",
      " 7   V7      284807 non-null  float64\n",
      " 8   V8      284807 non-null  float64\n",
      " 9   V9      284807 non-null  float64\n",
      " 10  V10     284807 non-null  float64\n",
      " 11  V11     284807 non-null  float64\n",
      " 12  V12     284807 non-null  float64\n",
      " 13  V13     284807 non-null  float64\n",
      " 14  V14     284807 non-null  float64\n",
      " 15  V15     284807 non-null  float64\n",
      " 16  V16     284807 non-null  float64\n",
      " 17  V17     284807 non-null  float64\n",
      " 18  V18     284807 non-null  float64\n",
      " 19  V19     284807 non-null  float64\n",
      " 20  V20     284807 non-null  float64\n",
      " 21  V21     284807 non-null  float64\n",
      " 22  V22     284807 non-null  float64\n",
      " 23  V23     284807 non-null  float64\n",
      " 24  V24     284807 non-null  float64\n",
      " 25  V25     284807 non-null  float64\n",
      " 26  V26     284807 non-null  float64\n",
      " 27  V27     284807 non-null  float64\n",
      " 28  V28     284807 non-null  float64\n",
      " 29  Amount  284807 non-null  float64\n",
      " 30  Class   284807 non-null  int64  \n",
      "dtypes: float64(30), int64(1)\n",
      "memory usage: 67.4 MB\n"
     ]
    }
   ],
   "source": [
    "raw_df.info()\n",
    "#looks like no missing data"
   ]
  },
  {
   "cell_type": "code",
   "execution_count": 5,
   "id": "fdb06bb0",
   "metadata": {
    "execution": {
     "iopub.execute_input": "2023-01-06T14:54:11.927380Z",
     "iopub.status.busy": "2023-01-06T14:54:11.926997Z",
     "iopub.status.idle": "2023-01-06T14:54:11.952768Z",
     "shell.execute_reply": "2023-01-06T14:54:11.951691Z"
    },
    "papermill": {
     "duration": 0.039459,
     "end_time": "2023-01-06T14:54:11.955261",
     "exception": false,
     "start_time": "2023-01-06T14:54:11.915802",
     "status": "completed"
    },
    "tags": []
   },
   "outputs": [
    {
     "data": {
      "text/plain": [
       "0"
      ]
     },
     "execution_count": 5,
     "metadata": {},
     "output_type": "execute_result"
    }
   ],
   "source": [
    "#no missing data\n",
    "raw_df.isnull().sum().sum()"
   ]
  },
  {
   "cell_type": "code",
   "execution_count": 6,
   "id": "c71b2379",
   "metadata": {
    "execution": {
     "iopub.execute_input": "2023-01-06T14:54:11.976178Z",
     "iopub.status.busy": "2023-01-06T14:54:11.975790Z",
     "iopub.status.idle": "2023-01-06T14:54:12.472846Z",
     "shell.execute_reply": "2023-01-06T14:54:12.471776Z"
    },
    "papermill": {
     "duration": 0.510356,
     "end_time": "2023-01-06T14:54:12.475281",
     "exception": false,
     "start_time": "2023-01-06T14:54:11.964925",
     "status": "completed"
    },
    "tags": []
   },
   "outputs": [
    {
     "data": {
      "text/html": [
       "<div>\n",
       "<style scoped>\n",
       "    .dataframe tbody tr th:only-of-type {\n",
       "        vertical-align: middle;\n",
       "    }\n",
       "\n",
       "    .dataframe tbody tr th {\n",
       "        vertical-align: top;\n",
       "    }\n",
       "\n",
       "    .dataframe thead th {\n",
       "        text-align: right;\n",
       "    }\n",
       "</style>\n",
       "<table border=\"1\" class=\"dataframe\">\n",
       "  <thead>\n",
       "    <tr style=\"text-align: right;\">\n",
       "      <th></th>\n",
       "      <th>count</th>\n",
       "      <th>mean</th>\n",
       "      <th>std</th>\n",
       "      <th>min</th>\n",
       "      <th>25%</th>\n",
       "      <th>50%</th>\n",
       "      <th>75%</th>\n",
       "      <th>max</th>\n",
       "    </tr>\n",
       "  </thead>\n",
       "  <tbody>\n",
       "    <tr>\n",
       "      <th>Time</th>\n",
       "      <td>284807.0</td>\n",
       "      <td>9.481386e+04</td>\n",
       "      <td>47488.145955</td>\n",
       "      <td>0.000000</td>\n",
       "      <td>54201.500000</td>\n",
       "      <td>84692.000000</td>\n",
       "      <td>139320.500000</td>\n",
       "      <td>172792.000000</td>\n",
       "    </tr>\n",
       "    <tr>\n",
       "      <th>V1</th>\n",
       "      <td>284807.0</td>\n",
       "      <td>1.168375e-15</td>\n",
       "      <td>1.958696</td>\n",
       "      <td>-56.407510</td>\n",
       "      <td>-0.920373</td>\n",
       "      <td>0.018109</td>\n",
       "      <td>1.315642</td>\n",
       "      <td>2.454930</td>\n",
       "    </tr>\n",
       "    <tr>\n",
       "      <th>V2</th>\n",
       "      <td>284807.0</td>\n",
       "      <td>3.416908e-16</td>\n",
       "      <td>1.651309</td>\n",
       "      <td>-72.715728</td>\n",
       "      <td>-0.598550</td>\n",
       "      <td>0.065486</td>\n",
       "      <td>0.803724</td>\n",
       "      <td>22.057729</td>\n",
       "    </tr>\n",
       "    <tr>\n",
       "      <th>V3</th>\n",
       "      <td>284807.0</td>\n",
       "      <td>-1.379537e-15</td>\n",
       "      <td>1.516255</td>\n",
       "      <td>-48.325589</td>\n",
       "      <td>-0.890365</td>\n",
       "      <td>0.179846</td>\n",
       "      <td>1.027196</td>\n",
       "      <td>9.382558</td>\n",
       "    </tr>\n",
       "    <tr>\n",
       "      <th>V4</th>\n",
       "      <td>284807.0</td>\n",
       "      <td>2.074095e-15</td>\n",
       "      <td>1.415869</td>\n",
       "      <td>-5.683171</td>\n",
       "      <td>-0.848640</td>\n",
       "      <td>-0.019847</td>\n",
       "      <td>0.743341</td>\n",
       "      <td>16.875344</td>\n",
       "    </tr>\n",
       "    <tr>\n",
       "      <th>V5</th>\n",
       "      <td>284807.0</td>\n",
       "      <td>9.604066e-16</td>\n",
       "      <td>1.380247</td>\n",
       "      <td>-113.743307</td>\n",
       "      <td>-0.691597</td>\n",
       "      <td>-0.054336</td>\n",
       "      <td>0.611926</td>\n",
       "      <td>34.801666</td>\n",
       "    </tr>\n",
       "    <tr>\n",
       "      <th>V6</th>\n",
       "      <td>284807.0</td>\n",
       "      <td>1.487313e-15</td>\n",
       "      <td>1.332271</td>\n",
       "      <td>-26.160506</td>\n",
       "      <td>-0.768296</td>\n",
       "      <td>-0.274187</td>\n",
       "      <td>0.398565</td>\n",
       "      <td>73.301626</td>\n",
       "    </tr>\n",
       "    <tr>\n",
       "      <th>V7</th>\n",
       "      <td>284807.0</td>\n",
       "      <td>-5.556467e-16</td>\n",
       "      <td>1.237094</td>\n",
       "      <td>-43.557242</td>\n",
       "      <td>-0.554076</td>\n",
       "      <td>0.040103</td>\n",
       "      <td>0.570436</td>\n",
       "      <td>120.589494</td>\n",
       "    </tr>\n",
       "    <tr>\n",
       "      <th>V8</th>\n",
       "      <td>284807.0</td>\n",
       "      <td>1.213481e-16</td>\n",
       "      <td>1.194353</td>\n",
       "      <td>-73.216718</td>\n",
       "      <td>-0.208630</td>\n",
       "      <td>0.022358</td>\n",
       "      <td>0.327346</td>\n",
       "      <td>20.007208</td>\n",
       "    </tr>\n",
       "    <tr>\n",
       "      <th>V9</th>\n",
       "      <td>284807.0</td>\n",
       "      <td>-2.406331e-15</td>\n",
       "      <td>1.098632</td>\n",
       "      <td>-13.434066</td>\n",
       "      <td>-0.643098</td>\n",
       "      <td>-0.051429</td>\n",
       "      <td>0.597139</td>\n",
       "      <td>15.594995</td>\n",
       "    </tr>\n",
       "    <tr>\n",
       "      <th>V10</th>\n",
       "      <td>284807.0</td>\n",
       "      <td>2.239053e-15</td>\n",
       "      <td>1.088850</td>\n",
       "      <td>-24.588262</td>\n",
       "      <td>-0.535426</td>\n",
       "      <td>-0.092917</td>\n",
       "      <td>0.453923</td>\n",
       "      <td>23.745136</td>\n",
       "    </tr>\n",
       "    <tr>\n",
       "      <th>V11</th>\n",
       "      <td>284807.0</td>\n",
       "      <td>1.673327e-15</td>\n",
       "      <td>1.020713</td>\n",
       "      <td>-4.797473</td>\n",
       "      <td>-0.762494</td>\n",
       "      <td>-0.032757</td>\n",
       "      <td>0.739593</td>\n",
       "      <td>12.018913</td>\n",
       "    </tr>\n",
       "    <tr>\n",
       "      <th>V12</th>\n",
       "      <td>284807.0</td>\n",
       "      <td>-1.247012e-15</td>\n",
       "      <td>0.999201</td>\n",
       "      <td>-18.683715</td>\n",
       "      <td>-0.405571</td>\n",
       "      <td>0.140033</td>\n",
       "      <td>0.618238</td>\n",
       "      <td>7.848392</td>\n",
       "    </tr>\n",
       "    <tr>\n",
       "      <th>V13</th>\n",
       "      <td>284807.0</td>\n",
       "      <td>8.190001e-16</td>\n",
       "      <td>0.995274</td>\n",
       "      <td>-5.791881</td>\n",
       "      <td>-0.648539</td>\n",
       "      <td>-0.013568</td>\n",
       "      <td>0.662505</td>\n",
       "      <td>7.126883</td>\n",
       "    </tr>\n",
       "    <tr>\n",
       "      <th>V14</th>\n",
       "      <td>284807.0</td>\n",
       "      <td>1.207294e-15</td>\n",
       "      <td>0.958596</td>\n",
       "      <td>-19.214325</td>\n",
       "      <td>-0.425574</td>\n",
       "      <td>0.050601</td>\n",
       "      <td>0.493150</td>\n",
       "      <td>10.526766</td>\n",
       "    </tr>\n",
       "    <tr>\n",
       "      <th>V15</th>\n",
       "      <td>284807.0</td>\n",
       "      <td>4.887456e-15</td>\n",
       "      <td>0.915316</td>\n",
       "      <td>-4.498945</td>\n",
       "      <td>-0.582884</td>\n",
       "      <td>0.048072</td>\n",
       "      <td>0.648821</td>\n",
       "      <td>8.877742</td>\n",
       "    </tr>\n",
       "    <tr>\n",
       "      <th>V16</th>\n",
       "      <td>284807.0</td>\n",
       "      <td>1.437716e-15</td>\n",
       "      <td>0.876253</td>\n",
       "      <td>-14.129855</td>\n",
       "      <td>-0.468037</td>\n",
       "      <td>0.066413</td>\n",
       "      <td>0.523296</td>\n",
       "      <td>17.315112</td>\n",
       "    </tr>\n",
       "    <tr>\n",
       "      <th>V17</th>\n",
       "      <td>284807.0</td>\n",
       "      <td>-3.772171e-16</td>\n",
       "      <td>0.849337</td>\n",
       "      <td>-25.162799</td>\n",
       "      <td>-0.483748</td>\n",
       "      <td>-0.065676</td>\n",
       "      <td>0.399675</td>\n",
       "      <td>9.253526</td>\n",
       "    </tr>\n",
       "    <tr>\n",
       "      <th>V18</th>\n",
       "      <td>284807.0</td>\n",
       "      <td>9.564149e-16</td>\n",
       "      <td>0.838176</td>\n",
       "      <td>-9.498746</td>\n",
       "      <td>-0.498850</td>\n",
       "      <td>-0.003636</td>\n",
       "      <td>0.500807</td>\n",
       "      <td>5.041069</td>\n",
       "    </tr>\n",
       "    <tr>\n",
       "      <th>V19</th>\n",
       "      <td>284807.0</td>\n",
       "      <td>1.039917e-15</td>\n",
       "      <td>0.814041</td>\n",
       "      <td>-7.213527</td>\n",
       "      <td>-0.456299</td>\n",
       "      <td>0.003735</td>\n",
       "      <td>0.458949</td>\n",
       "      <td>5.591971</td>\n",
       "    </tr>\n",
       "    <tr>\n",
       "      <th>V20</th>\n",
       "      <td>284807.0</td>\n",
       "      <td>6.406204e-16</td>\n",
       "      <td>0.770925</td>\n",
       "      <td>-54.497720</td>\n",
       "      <td>-0.211721</td>\n",
       "      <td>-0.062481</td>\n",
       "      <td>0.133041</td>\n",
       "      <td>39.420904</td>\n",
       "    </tr>\n",
       "    <tr>\n",
       "      <th>V21</th>\n",
       "      <td>284807.0</td>\n",
       "      <td>1.654067e-16</td>\n",
       "      <td>0.734524</td>\n",
       "      <td>-34.830382</td>\n",
       "      <td>-0.228395</td>\n",
       "      <td>-0.029450</td>\n",
       "      <td>0.186377</td>\n",
       "      <td>27.202839</td>\n",
       "    </tr>\n",
       "    <tr>\n",
       "      <th>V22</th>\n",
       "      <td>284807.0</td>\n",
       "      <td>-3.568593e-16</td>\n",
       "      <td>0.725702</td>\n",
       "      <td>-10.933144</td>\n",
       "      <td>-0.542350</td>\n",
       "      <td>0.006782</td>\n",
       "      <td>0.528554</td>\n",
       "      <td>10.503090</td>\n",
       "    </tr>\n",
       "    <tr>\n",
       "      <th>V23</th>\n",
       "      <td>284807.0</td>\n",
       "      <td>2.578648e-16</td>\n",
       "      <td>0.624460</td>\n",
       "      <td>-44.807735</td>\n",
       "      <td>-0.161846</td>\n",
       "      <td>-0.011193</td>\n",
       "      <td>0.147642</td>\n",
       "      <td>22.528412</td>\n",
       "    </tr>\n",
       "    <tr>\n",
       "      <th>V24</th>\n",
       "      <td>284807.0</td>\n",
       "      <td>4.473266e-15</td>\n",
       "      <td>0.605647</td>\n",
       "      <td>-2.836627</td>\n",
       "      <td>-0.354586</td>\n",
       "      <td>0.040976</td>\n",
       "      <td>0.439527</td>\n",
       "      <td>4.584549</td>\n",
       "    </tr>\n",
       "    <tr>\n",
       "      <th>V25</th>\n",
       "      <td>284807.0</td>\n",
       "      <td>5.340915e-16</td>\n",
       "      <td>0.521278</td>\n",
       "      <td>-10.295397</td>\n",
       "      <td>-0.317145</td>\n",
       "      <td>0.016594</td>\n",
       "      <td>0.350716</td>\n",
       "      <td>7.519589</td>\n",
       "    </tr>\n",
       "    <tr>\n",
       "      <th>V26</th>\n",
       "      <td>284807.0</td>\n",
       "      <td>1.683437e-15</td>\n",
       "      <td>0.482227</td>\n",
       "      <td>-2.604551</td>\n",
       "      <td>-0.326984</td>\n",
       "      <td>-0.052139</td>\n",
       "      <td>0.240952</td>\n",
       "      <td>3.517346</td>\n",
       "    </tr>\n",
       "    <tr>\n",
       "      <th>V27</th>\n",
       "      <td>284807.0</td>\n",
       "      <td>-3.660091e-16</td>\n",
       "      <td>0.403632</td>\n",
       "      <td>-22.565679</td>\n",
       "      <td>-0.070840</td>\n",
       "      <td>0.001342</td>\n",
       "      <td>0.091045</td>\n",
       "      <td>31.612198</td>\n",
       "    </tr>\n",
       "    <tr>\n",
       "      <th>V28</th>\n",
       "      <td>284807.0</td>\n",
       "      <td>-1.227390e-16</td>\n",
       "      <td>0.330083</td>\n",
       "      <td>-15.430084</td>\n",
       "      <td>-0.052960</td>\n",
       "      <td>0.011244</td>\n",
       "      <td>0.078280</td>\n",
       "      <td>33.847808</td>\n",
       "    </tr>\n",
       "    <tr>\n",
       "      <th>Amount</th>\n",
       "      <td>284807.0</td>\n",
       "      <td>8.834962e+01</td>\n",
       "      <td>250.120109</td>\n",
       "      <td>0.000000</td>\n",
       "      <td>5.600000</td>\n",
       "      <td>22.000000</td>\n",
       "      <td>77.165000</td>\n",
       "      <td>25691.160000</td>\n",
       "    </tr>\n",
       "    <tr>\n",
       "      <th>Class</th>\n",
       "      <td>284807.0</td>\n",
       "      <td>1.727486e-03</td>\n",
       "      <td>0.041527</td>\n",
       "      <td>0.000000</td>\n",
       "      <td>0.000000</td>\n",
       "      <td>0.000000</td>\n",
       "      <td>0.000000</td>\n",
       "      <td>1.000000</td>\n",
       "    </tr>\n",
       "  </tbody>\n",
       "</table>\n",
       "</div>"
      ],
      "text/plain": [
       "           count          mean           std         min           25%  \\\n",
       "Time    284807.0  9.481386e+04  47488.145955    0.000000  54201.500000   \n",
       "V1      284807.0  1.168375e-15      1.958696  -56.407510     -0.920373   \n",
       "V2      284807.0  3.416908e-16      1.651309  -72.715728     -0.598550   \n",
       "V3      284807.0 -1.379537e-15      1.516255  -48.325589     -0.890365   \n",
       "V4      284807.0  2.074095e-15      1.415869   -5.683171     -0.848640   \n",
       "V5      284807.0  9.604066e-16      1.380247 -113.743307     -0.691597   \n",
       "V6      284807.0  1.487313e-15      1.332271  -26.160506     -0.768296   \n",
       "V7      284807.0 -5.556467e-16      1.237094  -43.557242     -0.554076   \n",
       "V8      284807.0  1.213481e-16      1.194353  -73.216718     -0.208630   \n",
       "V9      284807.0 -2.406331e-15      1.098632  -13.434066     -0.643098   \n",
       "V10     284807.0  2.239053e-15      1.088850  -24.588262     -0.535426   \n",
       "V11     284807.0  1.673327e-15      1.020713   -4.797473     -0.762494   \n",
       "V12     284807.0 -1.247012e-15      0.999201  -18.683715     -0.405571   \n",
       "V13     284807.0  8.190001e-16      0.995274   -5.791881     -0.648539   \n",
       "V14     284807.0  1.207294e-15      0.958596  -19.214325     -0.425574   \n",
       "V15     284807.0  4.887456e-15      0.915316   -4.498945     -0.582884   \n",
       "V16     284807.0  1.437716e-15      0.876253  -14.129855     -0.468037   \n",
       "V17     284807.0 -3.772171e-16      0.849337  -25.162799     -0.483748   \n",
       "V18     284807.0  9.564149e-16      0.838176   -9.498746     -0.498850   \n",
       "V19     284807.0  1.039917e-15      0.814041   -7.213527     -0.456299   \n",
       "V20     284807.0  6.406204e-16      0.770925  -54.497720     -0.211721   \n",
       "V21     284807.0  1.654067e-16      0.734524  -34.830382     -0.228395   \n",
       "V22     284807.0 -3.568593e-16      0.725702  -10.933144     -0.542350   \n",
       "V23     284807.0  2.578648e-16      0.624460  -44.807735     -0.161846   \n",
       "V24     284807.0  4.473266e-15      0.605647   -2.836627     -0.354586   \n",
       "V25     284807.0  5.340915e-16      0.521278  -10.295397     -0.317145   \n",
       "V26     284807.0  1.683437e-15      0.482227   -2.604551     -0.326984   \n",
       "V27     284807.0 -3.660091e-16      0.403632  -22.565679     -0.070840   \n",
       "V28     284807.0 -1.227390e-16      0.330083  -15.430084     -0.052960   \n",
       "Amount  284807.0  8.834962e+01    250.120109    0.000000      5.600000   \n",
       "Class   284807.0  1.727486e-03      0.041527    0.000000      0.000000   \n",
       "\n",
       "                 50%            75%            max  \n",
       "Time    84692.000000  139320.500000  172792.000000  \n",
       "V1          0.018109       1.315642       2.454930  \n",
       "V2          0.065486       0.803724      22.057729  \n",
       "V3          0.179846       1.027196       9.382558  \n",
       "V4         -0.019847       0.743341      16.875344  \n",
       "V5         -0.054336       0.611926      34.801666  \n",
       "V6         -0.274187       0.398565      73.301626  \n",
       "V7          0.040103       0.570436     120.589494  \n",
       "V8          0.022358       0.327346      20.007208  \n",
       "V9         -0.051429       0.597139      15.594995  \n",
       "V10        -0.092917       0.453923      23.745136  \n",
       "V11        -0.032757       0.739593      12.018913  \n",
       "V12         0.140033       0.618238       7.848392  \n",
       "V13        -0.013568       0.662505       7.126883  \n",
       "V14         0.050601       0.493150      10.526766  \n",
       "V15         0.048072       0.648821       8.877742  \n",
       "V16         0.066413       0.523296      17.315112  \n",
       "V17        -0.065676       0.399675       9.253526  \n",
       "V18        -0.003636       0.500807       5.041069  \n",
       "V19         0.003735       0.458949       5.591971  \n",
       "V20        -0.062481       0.133041      39.420904  \n",
       "V21        -0.029450       0.186377      27.202839  \n",
       "V22         0.006782       0.528554      10.503090  \n",
       "V23        -0.011193       0.147642      22.528412  \n",
       "V24         0.040976       0.439527       4.584549  \n",
       "V25         0.016594       0.350716       7.519589  \n",
       "V26        -0.052139       0.240952       3.517346  \n",
       "V27         0.001342       0.091045      31.612198  \n",
       "V28         0.011244       0.078280      33.847808  \n",
       "Amount     22.000000      77.165000   25691.160000  \n",
       "Class       0.000000       0.000000       1.000000  "
      ]
     },
     "execution_count": 6,
     "metadata": {},
     "output_type": "execute_result"
    }
   ],
   "source": [
    "raw_df.describe().transpose()"
   ]
  },
  {
   "cell_type": "code",
   "execution_count": 7,
   "id": "ad049f20",
   "metadata": {
    "execution": {
     "iopub.execute_input": "2023-01-06T14:54:12.497029Z",
     "iopub.status.busy": "2023-01-06T14:54:12.496608Z",
     "iopub.status.idle": "2023-01-06T14:54:13.562240Z",
     "shell.execute_reply": "2023-01-06T14:54:13.561139Z"
    },
    "papermill": {
     "duration": 1.079258,
     "end_time": "2023-01-06T14:54:13.564636",
     "exception": false,
     "start_time": "2023-01-06T14:54:12.485378",
     "status": "completed"
    },
    "tags": []
   },
   "outputs": [
    {
     "data": {
      "text/plain": [
       "(283726, 31)"
      ]
     },
     "execution_count": 7,
     "metadata": {},
     "output_type": "execute_result"
    }
   ],
   "source": [
    "#drop duplicate value\n",
    "raw_df.drop_duplicates(inplace=True)\n",
    "raw_df.shape"
   ]
  },
  {
   "cell_type": "code",
   "execution_count": 8,
   "id": "8d46331f",
   "metadata": {
    "execution": {
     "iopub.execute_input": "2023-01-06T14:54:13.587729Z",
     "iopub.status.busy": "2023-01-06T14:54:13.586841Z",
     "iopub.status.idle": "2023-01-06T14:54:14.600563Z",
     "shell.execute_reply": "2023-01-06T14:54:14.599708Z"
    },
    "papermill": {
     "duration": 1.027837,
     "end_time": "2023-01-06T14:54:14.602960",
     "exception": false,
     "start_time": "2023-01-06T14:54:13.575123",
     "status": "completed"
    },
    "tags": []
   },
   "outputs": [
    {
     "data": {
      "text/html": [
       "        <script type=\"text/javascript\">\n",
       "        window.PlotlyConfig = {MathJaxConfig: 'local'};\n",
       "        if (window.MathJax && window.MathJax.Hub && window.MathJax.Hub.Config) {window.MathJax.Hub.Config({SVG: {font: \"STIX-Web\"}});}\n",
       "        if (typeof require !== 'undefined') {\n",
       "        require.undef(\"plotly\");\n",
       "        requirejs.config({\n",
       "            paths: {\n",
       "                'plotly': ['https://cdn.plot.ly/plotly-2.16.1.min']\n",
       "            }\n",
       "        });\n",
       "        require(['plotly'], function(Plotly) {\n",
       "            window._Plotly = Plotly;\n",
       "        });\n",
       "        }\n",
       "        </script>\n",
       "        "
      ]
     },
     "metadata": {},
     "output_type": "display_data"
    },
    {
     "data": {
      "text/html": [
       "<div>                            <div id=\"8465fc77-7dd2-4c5c-b9ce-f7a851f336c6\" class=\"plotly-graph-div\" style=\"height:300px; width:500px;\"></div>            <script type=\"text/javascript\">                require([\"plotly\"], function(Plotly) {                    window.PLOTLYENV=window.PLOTLYENV || {};                                    if (document.getElementById(\"8465fc77-7dd2-4c5c-b9ce-f7a851f336c6\")) {                    Plotly.newPlot(                        \"8465fc77-7dd2-4c5c-b9ce-f7a851f336c6\",                        [{\"domain\":{\"x\":[0.0,1.0],\"y\":[0.0,1.0]},\"hovertemplate\":\"label=%{label}<br>value=%{value}<extra></extra>\",\"labels\":[\"Genuine\",\"Fraud\"],\"legendgroup\":\"\",\"name\":\"\",\"showlegend\":true,\"values\":[283253,473],\"type\":\"pie\"}],                        {\"template\":{\"data\":{\"histogram2dcontour\":[{\"type\":\"histogram2dcontour\",\"colorbar\":{\"outlinewidth\":0,\"ticks\":\"\"},\"colorscale\":[[0.0,\"#0d0887\"],[0.1111111111111111,\"#46039f\"],[0.2222222222222222,\"#7201a8\"],[0.3333333333333333,\"#9c179e\"],[0.4444444444444444,\"#bd3786\"],[0.5555555555555556,\"#d8576b\"],[0.6666666666666666,\"#ed7953\"],[0.7777777777777778,\"#fb9f3a\"],[0.8888888888888888,\"#fdca26\"],[1.0,\"#f0f921\"]]}],\"choropleth\":[{\"type\":\"choropleth\",\"colorbar\":{\"outlinewidth\":0,\"ticks\":\"\"}}],\"histogram2d\":[{\"type\":\"histogram2d\",\"colorbar\":{\"outlinewidth\":0,\"ticks\":\"\"},\"colorscale\":[[0.0,\"#0d0887\"],[0.1111111111111111,\"#46039f\"],[0.2222222222222222,\"#7201a8\"],[0.3333333333333333,\"#9c179e\"],[0.4444444444444444,\"#bd3786\"],[0.5555555555555556,\"#d8576b\"],[0.6666666666666666,\"#ed7953\"],[0.7777777777777778,\"#fb9f3a\"],[0.8888888888888888,\"#fdca26\"],[1.0,\"#f0f921\"]]}],\"heatmap\":[{\"type\":\"heatmap\",\"colorbar\":{\"outlinewidth\":0,\"ticks\":\"\"},\"colorscale\":[[0.0,\"#0d0887\"],[0.1111111111111111,\"#46039f\"],[0.2222222222222222,\"#7201a8\"],[0.3333333333333333,\"#9c179e\"],[0.4444444444444444,\"#bd3786\"],[0.5555555555555556,\"#d8576b\"],[0.6666666666666666,\"#ed7953\"],[0.7777777777777778,\"#fb9f3a\"],[0.8888888888888888,\"#fdca26\"],[1.0,\"#f0f921\"]]}],\"heatmapgl\":[{\"type\":\"heatmapgl\",\"colorbar\":{\"outlinewidth\":0,\"ticks\":\"\"},\"colorscale\":[[0.0,\"#0d0887\"],[0.1111111111111111,\"#46039f\"],[0.2222222222222222,\"#7201a8\"],[0.3333333333333333,\"#9c179e\"],[0.4444444444444444,\"#bd3786\"],[0.5555555555555556,\"#d8576b\"],[0.6666666666666666,\"#ed7953\"],[0.7777777777777778,\"#fb9f3a\"],[0.8888888888888888,\"#fdca26\"],[1.0,\"#f0f921\"]]}],\"contourcarpet\":[{\"type\":\"contourcarpet\",\"colorbar\":{\"outlinewidth\":0,\"ticks\":\"\"}}],\"contour\":[{\"type\":\"contour\",\"colorbar\":{\"outlinewidth\":0,\"ticks\":\"\"},\"colorscale\":[[0.0,\"#0d0887\"],[0.1111111111111111,\"#46039f\"],[0.2222222222222222,\"#7201a8\"],[0.3333333333333333,\"#9c179e\"],[0.4444444444444444,\"#bd3786\"],[0.5555555555555556,\"#d8576b\"],[0.6666666666666666,\"#ed7953\"],[0.7777777777777778,\"#fb9f3a\"],[0.8888888888888888,\"#fdca26\"],[1.0,\"#f0f921\"]]}],\"surface\":[{\"type\":\"surface\",\"colorbar\":{\"outlinewidth\":0,\"ticks\":\"\"},\"colorscale\":[[0.0,\"#0d0887\"],[0.1111111111111111,\"#46039f\"],[0.2222222222222222,\"#7201a8\"],[0.3333333333333333,\"#9c179e\"],[0.4444444444444444,\"#bd3786\"],[0.5555555555555556,\"#d8576b\"],[0.6666666666666666,\"#ed7953\"],[0.7777777777777778,\"#fb9f3a\"],[0.8888888888888888,\"#fdca26\"],[1.0,\"#f0f921\"]]}],\"mesh3d\":[{\"type\":\"mesh3d\",\"colorbar\":{\"outlinewidth\":0,\"ticks\":\"\"}}],\"scatter\":[{\"fillpattern\":{\"fillmode\":\"overlay\",\"size\":10,\"solidity\":0.2},\"type\":\"scatter\"}],\"parcoords\":[{\"type\":\"parcoords\",\"line\":{\"colorbar\":{\"outlinewidth\":0,\"ticks\":\"\"}}}],\"scatterpolargl\":[{\"type\":\"scatterpolargl\",\"marker\":{\"colorbar\":{\"outlinewidth\":0,\"ticks\":\"\"}}}],\"bar\":[{\"error_x\":{\"color\":\"#2a3f5f\"},\"error_y\":{\"color\":\"#2a3f5f\"},\"marker\":{\"line\":{\"color\":\"#E5ECF6\",\"width\":0.5},\"pattern\":{\"fillmode\":\"overlay\",\"size\":10,\"solidity\":0.2}},\"type\":\"bar\"}],\"scattergeo\":[{\"type\":\"scattergeo\",\"marker\":{\"colorbar\":{\"outlinewidth\":0,\"ticks\":\"\"}}}],\"scatterpolar\":[{\"type\":\"scatterpolar\",\"marker\":{\"colorbar\":{\"outlinewidth\":0,\"ticks\":\"\"}}}],\"histogram\":[{\"marker\":{\"pattern\":{\"fillmode\":\"overlay\",\"size\":10,\"solidity\":0.2}},\"type\":\"histogram\"}],\"scattergl\":[{\"type\":\"scattergl\",\"marker\":{\"colorbar\":{\"outlinewidth\":0,\"ticks\":\"\"}}}],\"scatter3d\":[{\"type\":\"scatter3d\",\"line\":{\"colorbar\":{\"outlinewidth\":0,\"ticks\":\"\"}},\"marker\":{\"colorbar\":{\"outlinewidth\":0,\"ticks\":\"\"}}}],\"scattermapbox\":[{\"type\":\"scattermapbox\",\"marker\":{\"colorbar\":{\"outlinewidth\":0,\"ticks\":\"\"}}}],\"scatterternary\":[{\"type\":\"scatterternary\",\"marker\":{\"colorbar\":{\"outlinewidth\":0,\"ticks\":\"\"}}}],\"scattercarpet\":[{\"type\":\"scattercarpet\",\"marker\":{\"colorbar\":{\"outlinewidth\":0,\"ticks\":\"\"}}}],\"carpet\":[{\"aaxis\":{\"endlinecolor\":\"#2a3f5f\",\"gridcolor\":\"white\",\"linecolor\":\"white\",\"minorgridcolor\":\"white\",\"startlinecolor\":\"#2a3f5f\"},\"baxis\":{\"endlinecolor\":\"#2a3f5f\",\"gridcolor\":\"white\",\"linecolor\":\"white\",\"minorgridcolor\":\"white\",\"startlinecolor\":\"#2a3f5f\"},\"type\":\"carpet\"}],\"table\":[{\"cells\":{\"fill\":{\"color\":\"#EBF0F8\"},\"line\":{\"color\":\"white\"}},\"header\":{\"fill\":{\"color\":\"#C8D4E3\"},\"line\":{\"color\":\"white\"}},\"type\":\"table\"}],\"barpolar\":[{\"marker\":{\"line\":{\"color\":\"#E5ECF6\",\"width\":0.5},\"pattern\":{\"fillmode\":\"overlay\",\"size\":10,\"solidity\":0.2}},\"type\":\"barpolar\"}],\"pie\":[{\"automargin\":true,\"type\":\"pie\"}]},\"layout\":{\"autotypenumbers\":\"strict\",\"colorway\":[\"#636efa\",\"#EF553B\",\"#00cc96\",\"#ab63fa\",\"#FFA15A\",\"#19d3f3\",\"#FF6692\",\"#B6E880\",\"#FF97FF\",\"#FECB52\"],\"font\":{\"color\":\"#2a3f5f\"},\"hovermode\":\"closest\",\"hoverlabel\":{\"align\":\"left\"},\"paper_bgcolor\":\"white\",\"plot_bgcolor\":\"#E5ECF6\",\"polar\":{\"bgcolor\":\"#E5ECF6\",\"angularaxis\":{\"gridcolor\":\"white\",\"linecolor\":\"white\",\"ticks\":\"\"},\"radialaxis\":{\"gridcolor\":\"white\",\"linecolor\":\"white\",\"ticks\":\"\"}},\"ternary\":{\"bgcolor\":\"#E5ECF6\",\"aaxis\":{\"gridcolor\":\"white\",\"linecolor\":\"white\",\"ticks\":\"\"},\"baxis\":{\"gridcolor\":\"white\",\"linecolor\":\"white\",\"ticks\":\"\"},\"caxis\":{\"gridcolor\":\"white\",\"linecolor\":\"white\",\"ticks\":\"\"}},\"coloraxis\":{\"colorbar\":{\"outlinewidth\":0,\"ticks\":\"\"}},\"colorscale\":{\"sequential\":[[0.0,\"#0d0887\"],[0.1111111111111111,\"#46039f\"],[0.2222222222222222,\"#7201a8\"],[0.3333333333333333,\"#9c179e\"],[0.4444444444444444,\"#bd3786\"],[0.5555555555555556,\"#d8576b\"],[0.6666666666666666,\"#ed7953\"],[0.7777777777777778,\"#fb9f3a\"],[0.8888888888888888,\"#fdca26\"],[1.0,\"#f0f921\"]],\"sequentialminus\":[[0.0,\"#0d0887\"],[0.1111111111111111,\"#46039f\"],[0.2222222222222222,\"#7201a8\"],[0.3333333333333333,\"#9c179e\"],[0.4444444444444444,\"#bd3786\"],[0.5555555555555556,\"#d8576b\"],[0.6666666666666666,\"#ed7953\"],[0.7777777777777778,\"#fb9f3a\"],[0.8888888888888888,\"#fdca26\"],[1.0,\"#f0f921\"]],\"diverging\":[[0,\"#8e0152\"],[0.1,\"#c51b7d\"],[0.2,\"#de77ae\"],[0.3,\"#f1b6da\"],[0.4,\"#fde0ef\"],[0.5,\"#f7f7f7\"],[0.6,\"#e6f5d0\"],[0.7,\"#b8e186\"],[0.8,\"#7fbc41\"],[0.9,\"#4d9221\"],[1,\"#276419\"]]},\"xaxis\":{\"gridcolor\":\"white\",\"linecolor\":\"white\",\"ticks\":\"\",\"title\":{\"standoff\":15},\"zerolinecolor\":\"white\",\"automargin\":true,\"zerolinewidth\":2},\"yaxis\":{\"gridcolor\":\"white\",\"linecolor\":\"white\",\"ticks\":\"\",\"title\":{\"standoff\":15},\"zerolinecolor\":\"white\",\"automargin\":true,\"zerolinewidth\":2},\"scene\":{\"xaxis\":{\"backgroundcolor\":\"#E5ECF6\",\"gridcolor\":\"white\",\"linecolor\":\"white\",\"showbackground\":true,\"ticks\":\"\",\"zerolinecolor\":\"white\",\"gridwidth\":2},\"yaxis\":{\"backgroundcolor\":\"#E5ECF6\",\"gridcolor\":\"white\",\"linecolor\":\"white\",\"showbackground\":true,\"ticks\":\"\",\"zerolinecolor\":\"white\",\"gridwidth\":2},\"zaxis\":{\"backgroundcolor\":\"#E5ECF6\",\"gridcolor\":\"white\",\"linecolor\":\"white\",\"showbackground\":true,\"ticks\":\"\",\"zerolinecolor\":\"white\",\"gridwidth\":2}},\"shapedefaults\":{\"line\":{\"color\":\"#2a3f5f\"}},\"annotationdefaults\":{\"arrowcolor\":\"#2a3f5f\",\"arrowhead\":0,\"arrowwidth\":1},\"geo\":{\"bgcolor\":\"white\",\"landcolor\":\"#E5ECF6\",\"subunitcolor\":\"white\",\"showland\":true,\"showlakes\":true,\"lakecolor\":\"white\"},\"title\":{\"x\":0.05},\"mapbox\":{\"style\":\"light\"}}},\"legend\":{\"tracegroupgap\":0},\"title\":{\"text\":\"Genuine vs Fraud transactions\"},\"piecolorway\":[\"green\",\"Red\"],\"height\":300,\"width\":500},                        {\"responsive\": true}                    ).then(function(){\n",
       "                            \n",
       "var gd = document.getElementById('8465fc77-7dd2-4c5c-b9ce-f7a851f336c6');\n",
       "var x = new MutationObserver(function (mutations, observer) {{\n",
       "        var display = window.getComputedStyle(gd).display;\n",
       "        if (!display || display === 'none') {{\n",
       "            console.log([gd, 'removed!']);\n",
       "            Plotly.purge(gd);\n",
       "            observer.disconnect();\n",
       "        }}\n",
       "}});\n",
       "\n",
       "// Listen for the removal of the full notebook cells\n",
       "var notebookContainer = gd.closest('#notebook-container');\n",
       "if (notebookContainer) {{\n",
       "    x.observe(notebookContainer, {childList: true});\n",
       "}}\n",
       "\n",
       "// Listen for the clearing of the current output cell\n",
       "var outputEl = gd.closest('.output');\n",
       "if (outputEl) {{\n",
       "    x.observe(outputEl, {childList: true});\n",
       "}}\n",
       "\n",
       "                        })                };                });            </script>        </div>"
      ]
     },
     "metadata": {},
     "output_type": "display_data"
    }
   ],
   "source": [
    "px.pie(values=raw_df['Class'].value_counts(), names=['Genuine','Fraud'] ,\n",
    "       width=500, height=300, color_discrete_sequence=[\"green\",\"Red\"],\n",
    "       title=\"Genuine vs Fraud transactions\")"
   ]
  },
  {
   "cell_type": "code",
   "execution_count": 9,
   "id": "31693966",
   "metadata": {
    "execution": {
     "iopub.execute_input": "2023-01-06T14:54:14.626936Z",
     "iopub.status.busy": "2023-01-06T14:54:14.626188Z",
     "iopub.status.idle": "2023-01-06T14:54:14.830494Z",
     "shell.execute_reply": "2023-01-06T14:54:14.829659Z"
    },
    "papermill": {
     "duration": 0.219644,
     "end_time": "2023-01-06T14:54:14.833471",
     "exception": false,
     "start_time": "2023-01-06T14:54:14.613827",
     "status": "completed"
    },
    "tags": []
   },
   "outputs": [
    {
     "name": "stdout",
     "output_type": "stream",
     "text": [
      "0    283253\n",
      "1       473\n",
      "Name: Class, dtype: int64\n"
     ]
    },
    {
     "data": {
      "text/plain": [
       "<AxesSubplot:xlabel='Class', ylabel='count'>"
      ]
     },
     "execution_count": 9,
     "metadata": {},
     "output_type": "execute_result"
    },
    {
     "data": {
      "image/png": "[encoded data removed]",
      "text/plain": [
       "<Figure size 432x288 with 1 Axes>"
      ]
     },
     "metadata": {},
     "output_type": "display_data"
    }
   ],
   "source": [
    "print(raw_df.Class.value_counts())\n",
    "sns.countplot(x='Class',data=raw_df)"
   ]
  },
  {
   "cell_type": "code",
   "execution_count": 10,
   "id": "e7bfd319",
   "metadata": {
    "execution": {
     "iopub.execute_input": "2023-01-06T14:54:14.862923Z",
     "iopub.status.busy": "2023-01-06T14:54:14.861788Z",
     "iopub.status.idle": "2023-01-06T14:54:14.872674Z",
     "shell.execute_reply": "2023-01-06T14:54:14.871532Z"
    },
    "papermill": {
     "duration": 0.025632,
     "end_time": "2023-01-06T14:54:14.874911",
     "exception": false,
     "start_time": "2023-01-06T14:54:14.849279",
     "status": "completed"
    },
    "tags": []
   },
   "outputs": [
    {
     "data": {
      "text/plain": [
       "0.1667101358352777"
      ]
     },
     "execution_count": 10,
     "metadata": {},
     "output_type": "execute_result"
    }
   ],
   "source": [
    "#percentage of fraud transactions \n",
    "(raw_df.Class.value_counts(1).to_list()[1])*100"
   ]
  },
  {
   "cell_type": "code",
   "execution_count": 11,
   "id": "e0eb9e56",
   "metadata": {
    "execution": {
     "iopub.execute_input": "2023-01-06T14:54:14.899419Z",
     "iopub.status.busy": "2023-01-06T14:54:14.898630Z",
     "iopub.status.idle": "2023-01-06T14:54:17.350773Z",
     "shell.execute_reply": "2023-01-06T14:54:17.349680Z"
    },
    "papermill": {
     "duration": 2.467183,
     "end_time": "2023-01-06T14:54:17.353344",
     "exception": false,
     "start_time": "2023-01-06T14:54:14.886161",
     "status": "completed"
    },
    "tags": []
   },
   "outputs": [
    {
     "data": {
      "text/html": [
       "<div>                            <div id=\"dc9f5db9-2021-4515-8070-5ab9ad21ac6a\" class=\"plotly-graph-div\" style=\"height:600px; width:800px;\"></div>            <script type=\"text/javascript\">                require([\"plotly\"], function(Plotly) {                    window.PLOTLYENV=window.PLOTLYENV || {};                                    if (document.getElementById(\"dc9f5db9-2021-4515-8070-5ab9ad21ac6a\")) {                    Plotly.newPlot(                        \"dc9f5db9-2021-4515-8070-5ab9ad21ac6a\",                        [{\"coloraxis\":\"coloraxis\",\"name\":\"0\",\"x\":[\"Time\",\"V1\",\"V2\",\"V3\",\"V4\",\"V5\",\"V6\",\"V7\",\"V8\",\"V9\",\"V10\",\"V11\",\"V12\",\"V13\",\"V14\",\"V15\",\"V16\",\"V17\",\"V18\",\"V19\",\"V20\",\"V21\",\"V22\",\"V23\",\"V24\",\"V25\",\"V26\",\"V27\",\"V28\",\"Amount\",\"Class\"],\"y\":[\"Time\",\"V1\",\"V2\",\"V3\",\"V4\",\"V5\",\"V6\",\"V7\",\"V8\",\"V9\",\"V10\",\"V11\",\"V12\",\"V13\",\"V14\",\"V15\",\"V16\",\"V17\",\"V18\",\"V19\",\"V20\",\"V21\",\"V22\",\"V23\",\"V24\",\"V25\",\"V26\",\"V27\",\"V28\",\"Amount\",\"Class\"],\"z\":[[1.0,0.1179266030227628,-0.010555571875425785,-0.42205381041134654,-0.10584489282621046,0.17322301115212269,-0.06327933757899655,0.08533518087392702,-0.03820312615226919,-0.007861473303691071,0.031068099587314775,-0.24853595728863118,0.12550022982342351,-0.06595811110551923,-0.10031604214336735,-0.18439198554694597,0.011286429103372738,-0.07381921148674468,0.09030542537216428,0.029536703147178572,-0.05102151882103409,0.04591266340511758,0.14372725309517287,0.051474066796562745,-0.01595426684143566,-0.23326163903366473,-0.04181832491314743,-0.0051714164255086854,-0.009304983543484656,-0.010558833743212875,-0.012359339838080298],[0.1179266030227628,1.0,0.006874935526419426,-0.0081118121678291,0.0022573276391564083,-0.0070360157636033815,0.00041283568618039176,-0.009173080413415599,-0.0011682694376569708,0.0018280398253499636,0.0008152213891852068,0.0010280856222418626,-0.0015237428910409487,-0.0005675425908394059,-0.00266278895502623,-0.0006024774624418298,-0.00334540789384781,-0.0034909758217799023,-0.0035352301115608325,0.0009192076290548192,-0.0013928956574949967,0.0028175226840769776,-0.0014362517992120196,-0.0013304300392769047,-0.0007230448298401707,-0.00022249144197399148,-0.0006836594408822196,-0.015706191784068683,-0.0048605805640334725,-0.23010530271667712,-0.09448583378656274],[-0.010555571875425785,0.006874935526419426,1.0,0.00527825173761563,-0.00149526111360645,0.005209893541183653,-0.0005944498536884843,0.007424774033838251,0.0028992256555983834,-0.000273968682847043,0.0006204527334765875,-0.0006332422001300892,0.002266371812804505,0.000679634418527732,0.002711141992774252,0.0015377416324324979,0.004012757876910272,0.0032441614941839275,0.0024765547891234065,-0.0003582540758005265,-0.0012874591576682976,-0.004897164807167111,0.001237129661219597,-0.0038546637471704426,0.0007005669147255492,-0.0015691227244523094,0.0002532206861903867,0.007554740201984243,0.001611320698494387,-0.533428013926673,0.08462444869117351],[-0.42205381041134654,-0.0081118121678291,0.00527825173761563,1.0,0.002828781887235172,-0.006878570751309485,-0.0015114820260679885,-0.011721387696630715,-0.001814669812211177,-0.0035789211859255277,-0.009632285620257914,0.0023390024296688133,-0.005900173370574252,0.0001132795258778838,-0.00302737343478468,-0.001230119035515296,-0.004430372202953226,-0.008159065477444463,-0.003494743840183453,-0.000015795914878744604,-0.0022685010145374563,0.0034998715560879304,-0.0002747376974692431,0.0004490739775692545,-0.00007219221427316464,0.00042510378709767385,-0.0000943145501557379,-0.0070506444593044166,-0.00013416243133487275,-0.21241000931175436,-0.18232224748340453],[-0.10584489282621046,0.0022573276391564083,-0.00149526111360645,0.002828781887235172,1.0,0.0017442162438024282,-0.0008804138005239035,0.004656983704556169,0.0008904924205630152,0.002154399752364985,0.002752955770430743,-0.001222839153274635,0.0033657176049544124,0.0001774350252533336,0.0028006571624838304,0.0005723099873960436,0.0033463956939710497,0.003655499037334594,0.0023245465265008375,-0.0005603806335026222,0.00031814368907488375,-0.0010337817276862696,0.00011540141274068858,0.0007320910665364891,-0.00011988954340412765,0.0001616877309049471,0.0007769987555261176,0.0013219888401892698,0.0002310926109730117,0.09951433829114348,0.12932583072677128],[0.17322301115212269,-0.0070360157636033815,0.005209893541183653,-0.006878570751309485,0.0017442162438024282,1.0,-0.0009375118026803868,-0.008708848396817254,0.0014304921486532228,-0.0012128308740592066,-0.006049529114165079,0.0004112367277689824,-0.0023416751741034292,0.000019180768088287386,-0.001000291956111468,-0.0011706668323148725,-0.0023730942132559546,-0.004466238099767102,-0.0026854202621077166,0.0004361496264668811,-0.0011847396408664588,0.0016223474565084965,-0.0005587086089826208,0.0011832297651566195,0.00019788530702163315,0.00006905195049959112,0.0003904258882223096,-0.00579802732584942,-0.0008200771568128342,-0.3876852739120045,-0.08781244297489552],[-0.06327933757899655,0.00041283568618039176,-0.0005944498536884843,-0.0015114820260679885,-0.0008804138005239035,-0.0009375118026803868,1.0,0.00043631051630188685,0.003035785649002894,-0.0007338978121966336,-0.002179664927199511,-0.00021108571422985643,-0.0011851526958976475,0.0003971070847501633,0.0001835358673879833,-0.000470107100634843,0.0001222524552099763,-0.0017161730770739987,0.0005406374945166352,0.00010571146005933293,-0.00018101279201828674,-0.002133682066311286,0.0011036270673049759,-0.0007553722692057088,0.0012021488027409502,0.0006970064101565102,-0.000028038589542612846,0.0002892464950036262,0.0009246284173767372,0.21638879996015895,-0.043915409238085734],[0.08533518087392702,-0.009173080413415599,0.007424774033838251,-0.011721387696630715,0.004656983704556169,-0.008708848396817254,0.00043631051630188685,1.0,-0.00641931498926704,-0.004921427799508061,-0.013617071699614935,0.002454389524744143,-0.006153104318386394,-0.0001700720574197431,-0.003815507711620032,-0.0013936031389349761,-0.005944410923274911,-0.008793767370252392,-0.00427913627524687,0.0008461490012228347,-0.0011921619298240857,0.009010101012951481,-0.0022802363666433213,0.0033034839182157,-0.0003844087612464727,-0.00007247179108844831,0.000623884578430212,-0.004536866925704052,0.0016565689800311968,0.4004079784579554,-0.17234653244006812],[-0.03820312615226919,-0.0011682694376569708,0.0028992256555983834,-0.001814669812211177,0.0008904924205630152,0.0014304921486532228,0.003035785649002894,-0.00641931498926704,1.0,0.0010383549502201864,0.0004809097807614368,0.004687840758807665,-0.004413662707800211,-0.00138107131132359,-0.008387034001511499,0.0010441073897902722,-0.00437554441562473,-0.005575898368280805,-0.0013234694143313636,-0.0006258693317342716,0.0002714637780973605,0.018892285715434554,-0.006156169319139048,0.004993689956566703,0.00011250619728093436,0.000010623154795171527,-0.0014067841240507362,0.0006132571162989338,-0.00009929006655380315,-0.10466162183699004,0.03306802333281736],[-0.007861473303691071,0.0018280398253499636,-0.000273968682847043,-0.0035789211859255277,0.002154399752364985,-0.0012128308740592066,-0.0007338978121966336,-0.004921427799508061,0.0010383549502201864,1.0,-0.012612719895320526,-0.00021717644005768725,-0.0023845959897791863,0.0007450416352440461,0.001981400398180012,-0.00028299604931824197,-0.0000863526201567071,-0.0023179010260471903,-0.00037299420565077075,0.0002472655674440802,-0.001837667573194655,0.0006787735467916778,0.0007845609940343668,0.0006768839530255376,-0.00010308329057548098,-0.0002751722833421242,0.0012534989519350879,0.0082210631180808,0.005591209829211807,-0.04412250696315599,-0.09402128731255407],[0.031068099587314775,0.0008152213891852068,0.0006204527334765875,-0.009632285620257914,0.002752955770430743,-0.006049529114165079,-0.002179664927199511,-0.013617071699614935,0.0004809097807614368,-0.012612719895320526,1.0,0.0008441105944609582,-0.006941843021571827,0.0013787936076923712,0.00016773905551490604,-0.0022927840074276023,-0.0037153648767873325,-0.007877238876526398,-0.0024500111459483066,0.0010665177859760825,-0.004448340957551856,0.0037771149647689026,-0.0004809226296363571,0.0019166171100527668,0.00015444559587360338,-0.0005646352792900435,0.0010888767982834059,0.010769304605269562,0.009158577391667302,-0.1022549197820604,-0.20697123823505903],[-0.24853595728863118,0.0010280856222418626,-0.0006332422001300892,0.0023390024296688133,-0.001222839153274635,0.0004112367277689824,-0.00021108571422985643,0.002454389524744143,0.004687840758807665,-0.00021717644005768725,0.0008441105944609582,1.0,0.005568598011092186,0.0004551593007865121,0.007713499202580031,-0.0008717780913599406,0.004750958546111536,0.007353304436047845,0.0020952108165381207,-0.0004881236955308138,-0.0009890491440345608,-0.002760203439316694,-0.0001502572020376823,-0.00003669861416619262,0.00007954333062514645,0.00004720072400498326,-0.00020384739348269424,0.001986851607753208,0.002562344344397288,-0.000014745309458457545,0.14906710367009615],[0.12550022982342351,-0.0015237428910409487,0.002266371812804505,-0.005900173370574252,0.0033657176049544124,-0.0023416751741034292,-0.0011851526958976475,-0.006153104318386394,-0.004413662707800211,-0.0023845959897791863,-0.006941843021571827,0.005568598011092186,1.0,-0.000550053631997799,-0.010007267733039869,0.0008809023743919967,-0.007372014340777108,-0.012856437264530441,-0.0034636324576663683,0.0005929059591236318,0.0011687650346350327,0.003285266027488088,0.00015105954512132925,0.00048587195690326444,0.0005876584022505094,-0.00018074790446135757,-0.00013837785008018828,-0.0009285293662557876,-0.0006131803830766918,-0.009254234854543365,-0.25071117720572017],[-0.06595811110551923,-0.0005675425908394059,0.000679634418527732,0.0001132795258778838,0.0001774350252533336,0.000019180768088287386,0.0003971070847501633,-0.0001700720574197431,-0.00138107131132359,0.0007450416352440461,0.0013787936076923712,0.0004551593007865121,-0.000550053631997799,1.0,-0.0011332040038427263,0.00023412699748537842,-0.0008073010205591225,-0.0001697639811625292,-0.00015528654425752778,0.0000861803677235237,0.00037878143672678805,0.000522429117814035,0.000016456093356258318,0.0002518460684712973,-0.00004889666268313041,0.000248032089335133,-0.00010147628002586647,-0.0015771829819177252,-0.0006039263714784479,0.0052089012561848955,-0.003896955111430142],[-0.10031604214336735,-0.00266278895502623,0.002711141992774252,-0.00302737343478468,0.0028006571624838304,-0.001000291956111468,0.0001835358673879833,-0.003815507711620032,-0.008387034001511499,0.001981400398180012,0.00016773905551490604,0.007713499202580031,-0.010007267733039869,-0.0011332040038427263,1.0,0.0008664876035930266,-0.009073780163101713,-0.013550833900086972,-0.0044828952675463295,0.0015871864127332519,0.0027255828700044104,0.005633478985517677,-0.0019063009637494744,0.0006656972876652788,-0.00002632084157299185,0.00015538586503393827,-0.0007020277048752616,-0.004556005773713546,-0.0046642629458518515,0.03412161435159622,-0.29337538479004244],[-0.18439198554694597,-0.0006024774624418298,0.0015377416324324979,-0.001230119035515296,0.0005723099873960436,-0.0011706668323148725,-0.000470107100634843,-0.0013936031389349761,0.0010441073897902722,-0.00028299604931824197,-0.0022927840074276023,-0.0008717780913599406,0.0008809023743919967,0.00023412699748537842,0.0008664876035930266,1.0,-0.00028270323000670176,-0.00017359790672143779,-0.00042609714593935864,0.0005546181666845662,-0.0007540547321741072,-0.000270715999728039,-0.0011969348265726293,0.0009690519543636753,0.00011257826880787244,0.0004447776543112965,-0.0020340133952125154,-0.0006413875569910669,0.0008583620124208974,-0.0032646746452527397,-0.0032995578711372373],[0.011286429103372738,-0.00334540789384781,0.004012757876910272,-0.004430372202953226,0.0033463956939710497,-0.0023730942132559546,0.0001222524552099763,-0.005944410923274911,-0.00437554441562473,-0.0000863526201567071,-0.0037153648767873325,0.004750958546111536,-0.007372014340777108,-0.0008073010205591225,-0.009073780163101713,-0.00028270323000670176,1.0,-0.009062940251164447,-0.005427043024313857,0.0024317429926107737,0.0010670338155660255,0.0043264890950248614,-0.0008201712861955649,0.001208949862802246,-0.000481793663465755,0.00021493165118660282,-0.0012448302570294875,-0.003973719523256616,-0.0016287776618440569,-0.0044881721158604995,-0.18718605284536083],[-0.07381921148674468,-0.0034909758217799023,0.0032441614941839275,-0.008159065477444463,0.003655499037334594,-0.004466238099767102,-0.0017161730770739987,-0.008793767370252392,-0.005575898368280805,-0.0023179010260471903,-0.007877238876526398,0.007353304436047845,-0.012856437264530441,-0.0001697639811625292,-0.013550833900086972,-0.00017359790672143779,-0.009062940251164447,1.0,-0.005276652843220592,0.0009892274822335648,0.0015182392922292749,0.0035596126973395574,-0.00016210563035051688,0.000667395368792942,0.0010061384893589715,-0.0006845364870769069,0.0001568409179462451,-0.0034206019748422617,-0.002702573492757629,0.0077301947344692815,-0.3134982729556793],[0.09030542537216428,-0.0035352301115608325,0.0024765547891234065,-0.003494743840183453,0.0023245465265008375,-0.0026854202621077166,0.0005406374945166352,-0.00427913627524687,-0.0013234694143313636,-0.00037299420565077075,-0.0024500111459483066,0.0020952108165381207,-0.0034636324576663683,-0.00015528654425752778,-0.0044828952675463295,-0.00042609714593935864,-0.005427043024313857,-0.005276652843220592,1.0,-0.00010035952573903391,-0.0002447824836732992,0.0016289501006633567,-0.000533296139279614,0.0002401796529205121,-0.0007102011965020371,-0.000558950489103054,-0.0005962489139916716,-0.004230566682580002,-0.0012564998781779064,0.0357752370256949,-0.10533971521707305],[0.029536703147178572,0.0009192076290548192,-0.0003582540758005265,-0.000015795914878744604,-0.0005603806335026222,0.0004361496264668811,0.00010571146005933293,0.0008461490012228347,-0.0006258693317342716,0.0002472655674440802,0.0010665177859760825,-0.0004881236955308138,0.0005929059591236318,0.0000861803677235237,0.0015871864127332519,0.0005546181666845662,0.0024317429926107737,0.0009892274822335648,-0.00010035952573903391,1.0,-0.00026939162184398425,0.00024353286940087852,0.00134166441662352,0.0003808830997685998,-0.00011186586698434719,-0.00008428858807678778,0.0008557074186997845,-0.0005438293899230199,0.00035310699153178187,-0.05599397639928349,0.033631154442230346],[-0.05102151882103409,-0.0013928956574949967,-0.0012874591576682976,-0.0022685010145374563,0.00031814368907488375,-0.0011847396408664588,-0.00018101279201828674,-0.0011921619298240857,0.0002714637780973605,-0.001837667573194655,-0.004448340957551856,-0.0009890491440345608,0.0011687650346350327,0.00037878143672678805,0.0027255828700044104,-0.0007540547321741072,0.0010670338155660255,0.0015182392922292749,-0.0002447824836732992,-0.00026939162184398425,1.0,0.005372444121996675,-0.0016165580908771206,-0.0010942309832734196,-0.00030266279081047373,-0.0006432089880944813,-0.0003104050465949517,-0.0000489369633317948,0.002671098201648469,0.34072858628939995,0.02148634032100875],[0.04591266340511758,0.0028175226840769776,-0.004897164807167111,0.0034998715560879304,-0.0010337817276862696,0.0016223474565084965,-0.002133682066311286,0.009010101012951481,0.018892285715434554,0.0006787735467916778,0.0037771149647689026,-0.002760203439316694,0.003285266027488088,0.000522429117814035,0.005633478985517677,-0.000270715999728039,0.0043264890950248614,0.0035596126973395574,0.0016289501006633567,0.00024353286940087852,0.005372444121996675,1.0,0.009645297017555234,-0.0063911020976040855,0.0012102128937225222,-0.0008724678628704036,-0.0008738994580018577,-0.00521648778710321,-0.004436378810710145,0.10805761601439356,0.026357438897066807],[0.14372725309517287,-0.0014362517992120196,0.001237129661219597,-0.0002747376974692431,0.00011540141274068858,-0.0005587086089826208,0.0011036270673049759,-0.0022802363666433213,-0.006156169319139048,0.0007845609940343668,-0.0004809226296363571,-0.0001502572020376823,0.00015105954512132925,0.000016456093356258318,-0.0019063009637494744,-0.0011969348265726293,-0.0008201712861955649,-0.00016210563035051688,-0.000533296139279614,0.00134166441662352,-0.0016165580908771206,0.009645297017555234,1.0,0.001929377252585751,-0.00003143969752916494,0.00019744121024067708,-0.0014952641075571735,0.0030371549632088575,0.0013923896254467764,-0.06496476330264042,0.0048872321638307415],[0.051474066796562745,-0.0013304300392769047,-0.0038546637471704426,0.0004490739775692545,0.0007320910665364891,0.0011832297651566195,-0.0007553722692057088,0.0033034839182157,0.004993689956566703,0.0006768839530255376,0.0019166171100527668,-0.00003669861416619262,0.00048587195690326444,0.0002518460684712973,0.0006656972876652788,0.0009690519543636753,0.001208949862802246,0.000667395368792942,0.0002401796529205121,0.0003808830997685998,-0.0010942309832734196,-0.0063911020976040855,0.001929377252585751,1.0,0.00027270445866602614,-0.0005319791364952711,-0.00018539127457151274,-0.0020277014016940676,-0.003223704469492328,-0.1128325331082869,-0.006333210643022919],[-0.01595426684143566,-0.0007230448298401707,0.0007005669147255492,-0.00007219221427316464,-0.00011988954340412765,0.00019788530702163315,0.0012021488027409502,-0.0003844087612464727,0.00011250619728093436,-0.00010308329057548098,0.00015444559587360338,0.00007954333062514645,0.0005876584022505094,-0.00004889666268313041,-0.00002632084157299185,0.00011257826880787244,-0.000481793663465755,0.0010061384893589715,-0.0007102011965020371,-0.00011186586698434719,-0.00030266279081047373,0.0012102128937225222,-0.00003143969752916494,0.00027270445866602614,1.0,-0.00018806571577577004,0.000567772420451268,-0.0008847187720215867,0.00032202938151089275,0.005054927545184438,-0.007210125120706586],[-0.23326163903366473,-0.00022249144197399148,-0.0015691227244523094,0.00042510378709767385,0.0001616877309049471,0.00006905195049959112,0.0006970064101565102,-0.00007247179108844831,0.000010623154795171527,-0.0002751722833421242,-0.0005646352792900435,0.00004720072400498326,-0.00018074790446135757,0.000248032089335133,0.00015538586503393827,0.0004447776543112965,0.00021493165118660282,-0.0006845364870769069,-0.000558950489103054,-0.00008428858807678778,-0.0006432089880944813,-0.0008724678628704036,0.00019744121024067708,-0.0005319791364952711,-0.00018806571577577004,1.0,0.00004787741972194726,-0.0013385553529365786,-0.000565466959238189,-0.04759606039127926,0.003202493530110167],[-0.04181832491314743,-0.0006836594408822196,0.0002532206861903867,-0.0000943145501557379,0.0007769987555261176,0.0003904258882223096,-0.000028038589542612846,0.000623884578430212,-0.0014067841240507362,0.0012534989519350879,0.0010888767982834059,-0.00020384739348269424,-0.00013837785008018828,-0.00010147628002586647,-0.0007020277048752616,-0.0020340133952125154,-0.0012448302570294875,0.0001568409179462451,-0.0005962489139916716,0.0008557074186997845,-0.0003104050465949517,-0.0008738994580018577,-0.0014952641075571735,-0.00018539127457151274,0.000567772420451268,0.00004787741972194726,1.0,-0.003294446571853794,-0.0009989489588562428,-0.0034248459605086476,0.004264576791248341],[-0.0051714164255086854,-0.015706191784068683,0.007554740201984243,-0.0070506444593044166,0.0013219888401892698,-0.00579802732584942,0.0002892464950036262,-0.004536866925704052,0.0006132571162989338,0.0082210631180808,0.010769304605269562,0.001986851607753208,-0.0009285293662557876,-0.0015771829819177252,-0.004556005773713546,-0.0006413875569910669,-0.003973719523256616,-0.0034206019748422617,-0.004230566682580002,-0.0005438293899230199,-0.0000489369633317948,-0.00521648778710321,0.0030371549632088575,-0.0020277014016940676,-0.0008847187720215867,-0.0013385553529365786,-0.003294446571853794,1.0,-0.013950425887165495,0.02792172697862795,0.02189211330695945],[-0.009304983543484656,-0.0048605805640334725,0.001611320698494387,-0.00013416243133487275,0.0002310926109730117,-0.0008200771568128342,0.0009246284173767372,0.0016565689800311968,-0.00009929006655380315,0.005591209829211807,0.009158577391667302,0.002562344344397288,-0.0006131803830766918,-0.0006039263714784479,-0.0046642629458518515,0.0008583620124208974,-0.0016287776618440569,-0.002702573492757629,-0.0012564998781779064,0.00035310699153178187,0.002671098201648469,-0.004436378810710145,0.0013923896254467764,-0.003223704469492328,0.00032202938151089275,-0.000565466959238189,-0.0009989489588562428,-0.013950425887165495,1.0,0.010143491540533822,0.009682426330025314],[-0.010558833743212875,-0.23010530271667712,-0.533428013926673,-0.21241000931175436,0.09951433829114348,-0.3876852739120045,0.21638879996015895,0.4004079784579554,-0.10466162183699004,-0.04412250696315599,-0.1022549197820604,-0.000014745309458457545,-0.009254234854543365,0.0052089012561848955,0.03412161435159622,-0.0032646746452527397,-0.0044881721158604995,0.0077301947344692815,0.0357752370256949,-0.05599397639928349,0.34072858628939995,0.10805761601439356,-0.06496476330264042,-0.1128325331082869,0.005054927545184438,-0.04759606039127926,-0.0034248459605086476,0.02792172697862795,0.010143491540533822,1.0,0.005777019670480672],[-0.012359339838080298,-0.09448583378656274,0.08462444869117351,-0.18232224748340453,0.12932583072677128,-0.08781244297489552,-0.043915409238085734,-0.17234653244006812,0.03306802333281736,-0.09402128731255407,-0.20697123823505903,0.14906710367009615,-0.25071117720572017,-0.003896955111430142,-0.29337538479004244,-0.0032995578711372373,-0.18718605284536083,-0.3134982729556793,-0.10533971521707305,0.033631154442230346,0.02148634032100875,0.026357438897066807,0.0048872321638307415,-0.006333210643022919,-0.007210125120706586,0.003202493530110167,0.004264576791248341,0.02189211330695945,0.009682426330025314,0.005777019670480672,1.0]],\"type\":\"heatmap\",\"xaxis\":\"x\",\"yaxis\":\"y\",\"hovertemplate\":\"x: %{x}<br>y: %{y}<br>color: %{z}<extra></extra>\"}],                        {\"template\":{\"data\":{\"histogram2dcontour\":[{\"type\":\"histogram2dcontour\",\"colorbar\":{\"outlinewidth\":0,\"ticks\":\"\"},\"colorscale\":[[0.0,\"#0d0887\"],[0.1111111111111111,\"#46039f\"],[0.2222222222222222,\"#7201a8\"],[0.3333333333333333,\"#9c179e\"],[0.4444444444444444,\"#bd3786\"],[0.5555555555555556,\"#d8576b\"],[0.6666666666666666,\"#ed7953\"],[0.7777777777777778,\"#fb9f3a\"],[0.8888888888888888,\"#fdca26\"],[1.0,\"#f0f921\"]]}],\"choropleth\":[{\"type\":\"choropleth\",\"colorbar\":{\"outlinewidth\":0,\"ticks\":\"\"}}],\"histogram2d\":[{\"type\":\"histogram2d\",\"colorbar\":{\"outlinewidth\":0,\"ticks\":\"\"},\"colorscale\":[[0.0,\"#0d0887\"],[0.1111111111111111,\"#46039f\"],[0.2222222222222222,\"#7201a8\"],[0.3333333333333333,\"#9c179e\"],[0.4444444444444444,\"#bd3786\"],[0.5555555555555556,\"#d8576b\"],[0.6666666666666666,\"#ed7953\"],[0.7777777777777778,\"#fb9f3a\"],[0.8888888888888888,\"#fdca26\"],[1.0,\"#f0f921\"]]}],\"heatmap\":[{\"type\":\"heatmap\",\"colorbar\":{\"outlinewidth\":0,\"ticks\":\"\"},\"colorscale\":[[0.0,\"#0d0887\"],[0.1111111111111111,\"#46039f\"],[0.2222222222222222,\"#7201a8\"],[0.3333333333333333,\"#9c179e\"],[0.4444444444444444,\"#bd3786\"],[0.5555555555555556,\"#d8576b\"],[0.6666666666666666,\"#ed7953\"],[0.7777777777777778,\"#fb9f3a\"],[0.8888888888888888,\"#fdca26\"],[1.0,\"#f0f921\"]]}],\"heatmapgl\":[{\"type\":\"heatmapgl\",\"colorbar\":{\"outlinewidth\":0,\"ticks\":\"\"},\"colorscale\":[[0.0,\"#0d0887\"],[0.1111111111111111,\"#46039f\"],[0.2222222222222222,\"#7201a8\"],[0.3333333333333333,\"#9c179e\"],[0.4444444444444444,\"#bd3786\"],[0.5555555555555556,\"#d8576b\"],[0.6666666666666666,\"#ed7953\"],[0.7777777777777778,\"#fb9f3a\"],[0.8888888888888888,\"#fdca26\"],[1.0,\"#f0f921\"]]}],\"contourcarpet\":[{\"type\":\"contourcarpet\",\"colorbar\":{\"outlinewidth\":0,\"ticks\":\"\"}}],\"contour\":[{\"type\":\"contour\",\"colorbar\":{\"outlinewidth\":0,\"ticks\":\"\"},\"colorscale\":[[0.0,\"#0d0887\"],[0.1111111111111111,\"#46039f\"],[0.2222222222222222,\"#7201a8\"],[0.3333333333333333,\"#9c179e\"],[0.4444444444444444,\"#bd3786\"],[0.5555555555555556,\"#d8576b\"],[0.6666666666666666,\"#ed7953\"],[0.7777777777777778,\"#fb9f3a\"],[0.8888888888888888,\"#fdca26\"],[1.0,\"#f0f921\"]]}],\"surface\":[{\"type\":\"surface\",\"colorbar\":{\"outlinewidth\":0,\"ticks\":\"\"},\"colorscale\":[[0.0,\"#0d0887\"],[0.1111111111111111,\"#46039f\"],[0.2222222222222222,\"#7201a8\"],[0.3333333333333333,\"#9c179e\"],[0.4444444444444444,\"#bd3786\"],[0.5555555555555556,\"#d8576b\"],[0.6666666666666666,\"#ed7953\"],[0.7777777777777778,\"#fb9f3a\"],[0.8888888888888888,\"#fdca26\"],[1.0,\"#f0f921\"]]}],\"mesh3d\":[{\"type\":\"mesh3d\",\"colorbar\":{\"outlinewidth\":0,\"ticks\":\"\"}}],\"scatter\":[{\"fillpattern\":{\"fillmode\":\"overlay\",\"size\":10,\"solidity\":0.2},\"type\":\"scatter\"}],\"parcoords\":[{\"type\":\"parcoords\",\"line\":{\"colorbar\":{\"outlinewidth\":0,\"ticks\":\"\"}}}],\"scatterpolargl\":[{\"type\":\"scatterpolargl\",\"marker\":{\"colorbar\":{\"outlinewidth\":0,\"ticks\":\"\"}}}],\"bar\":[{\"error_x\":{\"color\":\"#2a3f5f\"},\"error_y\":{\"color\":\"#2a3f5f\"},\"marker\":{\"line\":{\"color\":\"#E5ECF6\",\"width\":0.5},\"pattern\":{\"fillmode\":\"overlay\",\"size\":10,\"solidity\":0.2}},\"type\":\"bar\"}],\"scattergeo\":[{\"type\":\"scattergeo\",\"marker\":{\"colorbar\":{\"outlinewidth\":0,\"ticks\":\"\"}}}],\"scatterpolar\":[{\"type\":\"scatterpolar\",\"marker\":{\"colorbar\":{\"outlinewidth\":0,\"ticks\":\"\"}}}],\"histogram\":[{\"marker\":{\"pattern\":{\"fillmode\":\"overlay\",\"size\":10,\"solidity\":0.2}},\"type\":\"histogram\"}],\"scattergl\":[{\"type\":\"scattergl\",\"marker\":{\"colorbar\":{\"outlinewidth\":0,\"ticks\":\"\"}}}],\"scatter3d\":[{\"type\":\"scatter3d\",\"line\":{\"colorbar\":{\"outlinewidth\":0,\"ticks\":\"\"}},\"marker\":{\"colorbar\":{\"outlinewidth\":0,\"ticks\":\"\"}}}],\"scattermapbox\":[{\"type\":\"scattermapbox\",\"marker\":{\"colorbar\":{\"outlinewidth\":0,\"ticks\":\"\"}}}],\"scatterternary\":[{\"type\":\"scatterternary\",\"marker\":{\"colorbar\":{\"outlinewidth\":0,\"ticks\":\"\"}}}],\"scattercarpet\":[{\"type\":\"scattercarpet\",\"marker\":{\"colorbar\":{\"outlinewidth\":0,\"ticks\":\"\"}}}],\"carpet\":[{\"aaxis\":{\"endlinecolor\":\"#2a3f5f\",\"gridcolor\":\"white\",\"linecolor\":\"white\",\"minorgridcolor\":\"white\",\"startlinecolor\":\"#2a3f5f\"},\"baxis\":{\"endlinecolor\":\"#2a3f5f\",\"gridcolor\":\"white\",\"linecolor\":\"white\",\"minorgridcolor\":\"white\",\"startlinecolor\":\"#2a3f5f\"},\"type\":\"carpet\"}],\"table\":[{\"cells\":{\"fill\":{\"color\":\"#EBF0F8\"},\"line\":{\"color\":\"white\"}},\"header\":{\"fill\":{\"color\":\"#C8D4E3\"},\"line\":{\"color\":\"white\"}},\"type\":\"table\"}],\"barpolar\":[{\"marker\":{\"line\":{\"color\":\"#E5ECF6\",\"width\":0.5},\"pattern\":{\"fillmode\":\"overlay\",\"size\":10,\"solidity\":0.2}},\"type\":\"barpolar\"}],\"pie\":[{\"automargin\":true,\"type\":\"pie\"}]},\"layout\":{\"autotypenumbers\":\"strict\",\"colorway\":[\"#636efa\",\"#EF553B\",\"#00cc96\",\"#ab63fa\",\"#FFA15A\",\"#19d3f3\",\"#FF6692\",\"#B6E880\",\"#FF97FF\",\"#FECB52\"],\"font\":{\"color\":\"#2a3f5f\"},\"hovermode\":\"closest\",\"hoverlabel\":{\"align\":\"left\"},\"paper_bgcolor\":\"white\",\"plot_bgcolor\":\"#E5ECF6\",\"polar\":{\"bgcolor\":\"#E5ECF6\",\"angularaxis\":{\"gridcolor\":\"white\",\"linecolor\":\"white\",\"ticks\":\"\"},\"radialaxis\":{\"gridcolor\":\"white\",\"linecolor\":\"white\",\"ticks\":\"\"}},\"ternary\":{\"bgcolor\":\"#E5ECF6\",\"aaxis\":{\"gridcolor\":\"white\",\"linecolor\":\"white\",\"ticks\":\"\"},\"baxis\":{\"gridcolor\":\"white\",\"linecolor\":\"white\",\"ticks\":\"\"},\"caxis\":{\"gridcolor\":\"white\",\"linecolor\":\"white\",\"ticks\":\"\"}},\"coloraxis\":{\"colorbar\":{\"outlinewidth\":0,\"ticks\":\"\"}},\"colorscale\":{\"sequential\":[[0.0,\"#0d0887\"],[0.1111111111111111,\"#46039f\"],[0.2222222222222222,\"#7201a8\"],[0.3333333333333333,\"#9c179e\"],[0.4444444444444444,\"#bd3786\"],[0.5555555555555556,\"#d8576b\"],[0.6666666666666666,\"#ed7953\"],[0.7777777777777778,\"#fb9f3a\"],[0.8888888888888888,\"#fdca26\"],[1.0,\"#f0f921\"]],\"sequentialminus\":[[0.0,\"#0d0887\"],[0.1111111111111111,\"#46039f\"],[0.2222222222222222,\"#7201a8\"],[0.3333333333333333,\"#9c179e\"],[0.4444444444444444,\"#bd3786\"],[0.5555555555555556,\"#d8576b\"],[0.6666666666666666,\"#ed7953\"],[0.7777777777777778,\"#fb9f3a\"],[0.8888888888888888,\"#fdca26\"],[1.0,\"#f0f921\"]],\"diverging\":[[0,\"#8e0152\"],[0.1,\"#c51b7d\"],[0.2,\"#de77ae\"],[0.3,\"#f1b6da\"],[0.4,\"#fde0ef\"],[0.5,\"#f7f7f7\"],[0.6,\"#e6f5d0\"],[0.7,\"#b8e186\"],[0.8,\"#7fbc41\"],[0.9,\"#4d9221\"],[1,\"#276419\"]]},\"xaxis\":{\"gridcolor\":\"white\",\"linecolor\":\"white\",\"ticks\":\"\",\"title\":{\"standoff\":15},\"zerolinecolor\":\"white\",\"automargin\":true,\"zerolinewidth\":2},\"yaxis\":{\"gridcolor\":\"white\",\"linecolor\":\"white\",\"ticks\":\"\",\"title\":{\"standoff\":15},\"zerolinecolor\":\"white\",\"automargin\":true,\"zerolinewidth\":2},\"scene\":{\"xaxis\":{\"backgroundcolor\":\"#E5ECF6\",\"gridcolor\":\"white\",\"linecolor\":\"white\",\"showbackground\":true,\"ticks\":\"\",\"zerolinecolor\":\"white\",\"gridwidth\":2},\"yaxis\":{\"backgroundcolor\":\"#E5ECF6\",\"gridcolor\":\"white\",\"linecolor\":\"white\",\"showbackground\":true,\"ticks\":\"\",\"zerolinecolor\":\"white\",\"gridwidth\":2},\"zaxis\":{\"backgroundcolor\":\"#E5ECF6\",\"gridcolor\":\"white\",\"linecolor\":\"white\",\"showbackground\":true,\"ticks\":\"\",\"zerolinecolor\":\"white\",\"gridwidth\":2}},\"shapedefaults\":{\"line\":{\"color\":\"#2a3f5f\"}},\"annotationdefaults\":{\"arrowcolor\":\"#2a3f5f\",\"arrowhead\":0,\"arrowwidth\":1},\"geo\":{\"bgcolor\":\"white\",\"landcolor\":\"#E5ECF6\",\"subunitcolor\":\"white\",\"showland\":true,\"showlakes\":true,\"lakecolor\":\"white\"},\"title\":{\"x\":0.05},\"mapbox\":{\"style\":\"light\"}}},\"xaxis\":{\"anchor\":\"y\",\"domain\":[0.0,1.0],\"scaleanchor\":\"y\",\"constrain\":\"domain\"},\"yaxis\":{\"anchor\":\"x\",\"domain\":[0.0,1.0],\"autorange\":\"reversed\",\"constrain\":\"domain\"},\"coloraxis\":{\"colorscale\":[[0.0,\"#0d0887\"],[0.1111111111111111,\"#46039f\"],[0.2222222222222222,\"#7201a8\"],[0.3333333333333333,\"#9c179e\"],[0.4444444444444444,\"#bd3786\"],[0.5555555555555556,\"#d8576b\"],[0.6666666666666666,\"#ed7953\"],[0.7777777777777778,\"#fb9f3a\"],[0.8888888888888888,\"#fdca26\"],[1.0,\"#f0f921\"]]},\"margin\":{\"t\":60},\"height\":600,\"width\":800},                        {\"responsive\": true}                    ).then(function(){\n",
       "                            \n",
       "var gd = document.getElementById('dc9f5db9-2021-4515-8070-5ab9ad21ac6a');\n",
       "var x = new MutationObserver(function (mutations, observer) {{\n",
       "        var display = window.getComputedStyle(gd).display;\n",
       "        if (!display || display === 'none') {{\n",
       "            console.log([gd, 'removed!']);\n",
       "            Plotly.purge(gd);\n",
       "            observer.disconnect();\n",
       "        }}\n",
       "}});\n",
       "\n",
       "// Listen for the removal of the full notebook cells\n",
       "var notebookContainer = gd.closest('#notebook-container');\n",
       "if (notebookContainer) {{\n",
       "    x.observe(notebookContainer, {childList: true});\n",
       "}}\n",
       "\n",
       "// Listen for the clearing of the current output cell\n",
       "var outputEl = gd.closest('.output');\n",
       "if (outputEl) {{\n",
       "    x.observe(outputEl, {childList: true});\n",
       "}}\n",
       "\n",
       "                        })                };                });            </script>        </div>"
      ]
     },
     "metadata": {},
     "output_type": "display_data"
    }
   ],
   "source": [
    "#correlation matrix\n",
    "fig = px.imshow(raw_df.corr(),x=list(raw_df.corr().columns),\n",
    "                y=list(raw_df.corr().columns),width=800, height=600)\n",
    "fig.show()"
   ]
  },
  {
   "cell_type": "code",
   "execution_count": 12,
   "id": "9a1f3df7",
   "metadata": {
    "execution": {
     "iopub.execute_input": "2023-01-06T14:54:17.380191Z",
     "iopub.status.busy": "2023-01-06T14:54:17.379271Z",
     "iopub.status.idle": "2023-01-06T14:54:17.412008Z",
     "shell.execute_reply": "2023-01-06T14:54:17.410694Z"
    },
    "papermill": {
     "duration": 0.048516,
     "end_time": "2023-01-06T14:54:17.414513",
     "exception": false,
     "start_time": "2023-01-06T14:54:17.365997",
     "status": "completed"
    },
    "tags": []
   },
   "outputs": [],
   "source": [
    "#since time is not relevant to our classification model we will drop it\n",
    "raw_df.drop('Time',axis=1,inplace=True)"
   ]
  },
  {
   "cell_type": "code",
   "execution_count": 13,
   "id": "c4e5a3ef",
   "metadata": {
    "execution": {
     "iopub.execute_input": "2023-01-06T14:54:17.440752Z",
     "iopub.status.busy": "2023-01-06T14:54:17.439446Z",
     "iopub.status.idle": "2023-01-06T14:54:17.473853Z",
     "shell.execute_reply": "2023-01-06T14:54:17.472675Z"
    },
    "papermill": {
     "duration": 0.050345,
     "end_time": "2023-01-06T14:54:17.476597",
     "exception": false,
     "start_time": "2023-01-06T14:54:17.426252",
     "status": "completed"
    },
    "tags": []
   },
   "outputs": [],
   "source": [
    "df=raw_df.copy()"
   ]
  },
  {
   "cell_type": "code",
   "execution_count": 14,
   "id": "0266499b",
   "metadata": {
    "execution": {
     "iopub.execute_input": "2023-01-06T14:54:17.508528Z",
     "iopub.status.busy": "2023-01-06T14:54:17.508085Z",
     "iopub.status.idle": "2023-01-06T14:54:17.562777Z",
     "shell.execute_reply": "2023-01-06T14:54:17.561026Z"
    },
    "papermill": {
     "duration": 0.074529,
     "end_time": "2023-01-06T14:54:17.565940",
     "exception": false,
     "start_time": "2023-01-06T14:54:17.491411",
     "status": "completed"
    },
    "tags": []
   },
   "outputs": [],
   "source": [
    "#split the data into train and test \n",
    "X=df.drop('Class',axis=1)\n",
    "y=df['Class']"
   ]
  },
  {
   "cell_type": "code",
   "execution_count": 15,
   "id": "bf7baaf2",
   "metadata": {
    "execution": {
     "iopub.execute_input": "2023-01-06T14:54:17.594508Z",
     "iopub.status.busy": "2023-01-06T14:54:17.593409Z",
     "iopub.status.idle": "2023-01-06T14:54:17.770349Z",
     "shell.execute_reply": "2023-01-06T14:54:17.769063Z"
    },
    "papermill": {
     "duration": 0.192651,
     "end_time": "2023-01-06T14:54:17.773060",
     "exception": false,
     "start_time": "2023-01-06T14:54:17.580409",
     "status": "completed"
    },
    "tags": []
   },
   "outputs": [],
   "source": [
    "X_train, X_test, y_train, y_test = train_test_split(X, y, stratify=y,\n",
    "                                                    test_size = 0.3, random_state = 42)"
   ]
  },
  {
   "cell_type": "markdown",
   "id": "282350cd",
   "metadata": {
    "papermill": {
     "duration": 0.011042,
     "end_time": "2023-01-06T14:54:17.795815",
     "exception": false,
     "start_time": "2023-01-06T14:54:17.784773",
     "status": "completed"
    },
    "tags": []
   },
   "source": [
    "# Model"
   ]
  },
  {
   "cell_type": "code",
   "execution_count": 16,
   "id": "9dbdd54e",
   "metadata": {
    "execution": {
     "iopub.execute_input": "2023-01-06T14:54:17.820543Z",
     "iopub.status.busy": "2023-01-06T14:54:17.819748Z",
     "iopub.status.idle": "2023-01-06T14:54:17.932866Z",
     "shell.execute_reply": "2023-01-06T14:54:17.931767Z"
    },
    "papermill": {
     "duration": 0.128349,
     "end_time": "2023-01-06T14:54:17.935520",
     "exception": false,
     "start_time": "2023-01-06T14:54:17.807171",
     "status": "completed"
    },
    "tags": []
   },
   "outputs": [],
   "source": [
    "scaler=StandardScaler()\n",
    "X_train_scaled=scaler.fit_transform(X_train)\n",
    "X_test_scaled=scaler.transform(X_test)"
   ]
  },
  {
   "cell_type": "code",
   "execution_count": 17,
   "id": "81cdbc6a",
   "metadata": {
    "execution": {
     "iopub.execute_input": "2023-01-06T14:54:17.960593Z",
     "iopub.status.busy": "2023-01-06T14:54:17.960205Z",
     "iopub.status.idle": "2023-01-06T14:54:18.615686Z",
     "shell.execute_reply": "2023-01-06T14:54:18.614539Z"
    },
    "papermill": {
     "duration": 0.671491,
     "end_time": "2023-01-06T14:54:18.618720",
     "exception": false,
     "start_time": "2023-01-06T14:54:17.947229",
     "status": "completed"
    },
    "tags": []
   },
   "outputs": [],
   "source": [
    "from imblearn.over_sampling import SMOTE\n",
    "from imblearn.under_sampling import RandomUnderSampler\n",
    "from imblearn.pipeline import Pipeline\n",
    "# from sklearn.tree import DecisionTreeClassifier\n",
    "\n",
    "# model = DecisionTreeClassifier()\n",
    "over = SMOTE()\n",
    "under = RandomUnderSampler()\n",
    "steps = [('o', over), ('u', under)]\n",
    "pipeline = Pipeline(steps=steps)\n",
    "# transform the dataset\n",
    "X_train_new, y_train_new = pipeline.fit_resample(X_train_scaled, y_train)"
   ]
  },
  {
   "cell_type": "code",
   "execution_count": 18,
   "id": "0501dfde",
   "metadata": {
    "execution": {
     "iopub.execute_input": "2023-01-06T14:54:18.643649Z",
     "iopub.status.busy": "2023-01-06T14:54:18.643205Z",
     "iopub.status.idle": "2023-01-06T14:54:18.655884Z",
     "shell.execute_reply": "2023-01-06T14:54:18.654786Z"
    },
    "papermill": {
     "duration": 0.027806,
     "end_time": "2023-01-06T14:54:18.658165",
     "exception": false,
     "start_time": "2023-01-06T14:54:18.630359",
     "status": "completed"
    },
    "tags": []
   },
   "outputs": [
    {
     "data": {
      "text/plain": [
       "0    198277\n",
       "1    198277\n",
       "Name: Class, dtype: int64"
      ]
     },
     "execution_count": 18,
     "metadata": {},
     "output_type": "execute_result"
    }
   ],
   "source": [
    "y_train_new.value_counts()\n",
    "#Data has been balanced from both the classes"
   ]
  },
  {
   "cell_type": "markdown",
   "id": "436f78f3",
   "metadata": {
    "papermill": {
     "duration": 0.011292,
     "end_time": "2023-01-06T14:54:18.681265",
     "exception": false,
     "start_time": "2023-01-06T14:54:18.669973",
     "status": "completed"
    },
    "tags": []
   },
   "source": [
    "# Random Forests"
   ]
  },
  {
   "cell_type": "code",
   "execution_count": 19,
   "id": "10c27e81",
   "metadata": {
    "execution": {
     "iopub.execute_input": "2023-01-06T14:54:18.706776Z",
     "iopub.status.busy": "2023-01-06T14:54:18.706057Z",
     "iopub.status.idle": "2023-01-06T15:00:10.268576Z",
     "shell.execute_reply": "2023-01-06T15:00:10.267434Z"
    },
    "papermill": {
     "duration": 351.578809,
     "end_time": "2023-01-06T15:00:10.271809",
     "exception": false,
     "start_time": "2023-01-06T14:54:18.693000",
     "status": "completed"
    },
    "tags": []
   },
   "outputs": [],
   "source": [
    "from sklearn.ensemble import RandomForestClassifier\n",
    "model1= RandomForestClassifier()\n",
    "model1=model1.fit(X_train_new,y_train_new)"
   ]
  },
  {
   "cell_type": "code",
   "execution_count": 20,
   "id": "0c611a5f",
   "metadata": {
    "execution": {
     "iopub.execute_input": "2023-01-06T15:00:10.297830Z",
     "iopub.status.busy": "2023-01-06T15:00:10.297068Z",
     "iopub.status.idle": "2023-01-06T15:00:11.332054Z",
     "shell.execute_reply": "2023-01-06T15:00:11.330775Z"
    },
    "papermill": {
     "duration": 1.050265,
     "end_time": "2023-01-06T15:00:11.334707",
     "exception": false,
     "start_time": "2023-01-06T15:00:10.284442",
     "status": "completed"
    },
    "tags": []
   },
   "outputs": [],
   "source": [
    "y_pred = model1.predict(X_test_scaled)"
   ]
  },
  {
   "cell_type": "markdown",
   "id": "ae2f8317",
   "metadata": {
    "papermill": {
     "duration": 0.011013,
     "end_time": "2023-01-06T15:00:11.357436",
     "exception": false,
     "start_time": "2023-01-06T15:00:11.346423",
     "status": "completed"
    },
    "tags": []
   },
   "source": [
    "# Metrics"
   ]
  },
  {
   "cell_type": "code",
   "execution_count": 21,
   "id": "9b528847",
   "metadata": {
    "execution": {
     "iopub.execute_input": "2023-01-06T15:00:11.381464Z",
     "iopub.status.busy": "2023-01-06T15:00:11.381091Z",
     "iopub.status.idle": "2023-01-06T15:00:11.491955Z",
     "shell.execute_reply": "2023-01-06T15:00:11.490851Z"
    },
    "papermill": {
     "duration": 0.126073,
     "end_time": "2023-01-06T15:00:11.494756",
     "exception": false,
     "start_time": "2023-01-06T15:00:11.368683",
     "status": "completed"
    },
    "tags": []
   },
   "outputs": [
    {
     "name": "stdout",
     "output_type": "stream",
     "text": [
      "[[84966    10]\n",
      " [   35   107]]\n"
     ]
    }
   ],
   "source": [
    "from sklearn.metrics import confusion_matrix, recall_score, precision_score, f1_score, accuracy_score\n",
    "\n",
    "cm = confusion_matrix(y_test, y_pred)\n",
    "\n",
    "Recall = recall_score(y_test, y_pred)\n",
    "Precision = precision_score(y_test, y_pred)\n",
    "F1 = f1_score(y_test, y_pred)\n",
    "Accuracy = accuracy_score(y_test, y_pred)\n",
    "\n",
    "print(cm)"
   ]
  },
  {
   "cell_type": "code",
   "execution_count": 22,
   "id": "161ad961",
   "metadata": {
    "execution": {
     "iopub.execute_input": "2023-01-06T15:00:11.520295Z",
     "iopub.status.busy": "2023-01-06T15:00:11.519511Z",
     "iopub.status.idle": "2023-01-06T15:00:11.534630Z",
     "shell.execute_reply": "2023-01-06T15:00:11.533533Z"
    },
    "papermill": {
     "duration": 0.029542,
     "end_time": "2023-01-06T15:00:11.536753",
     "exception": false,
     "start_time": "2023-01-06T15:00:11.507211",
     "status": "completed"
    },
    "tags": []
   },
   "outputs": [
    {
     "data": {
      "text/html": [
       "<div>\n",
       "<style scoped>\n",
       "    .dataframe tbody tr th:only-of-type {\n",
       "        vertical-align: middle;\n",
       "    }\n",
       "\n",
       "    .dataframe tbody tr th {\n",
       "        vertical-align: top;\n",
       "    }\n",
       "\n",
       "    .dataframe thead th {\n",
       "        text-align: right;\n",
       "    }\n",
       "</style>\n",
       "<table border=\"1\" class=\"dataframe\">\n",
       "  <thead>\n",
       "    <tr style=\"text-align: right;\">\n",
       "      <th></th>\n",
       "      <th>Models</th>\n",
       "      <th>Recall</th>\n",
       "      <th>Precision</th>\n",
       "      <th>F1 Score</th>\n",
       "      <th>Accuracy</th>\n",
       "    </tr>\n",
       "  </thead>\n",
       "  <tbody>\n",
       "    <tr>\n",
       "      <th>0</th>\n",
       "      <td>Random Forrests</td>\n",
       "      <td>0.753521</td>\n",
       "      <td>0.91453</td>\n",
       "      <td>0.826255</td>\n",
       "      <td>0.999471</td>\n",
       "    </tr>\n",
       "  </tbody>\n",
       "</table>\n",
       "</div>"
      ],
      "text/plain": [
       "             Models    Recall  Precision  F1 Score  Accuracy\n",
       "0  Random Forrests   0.753521    0.91453  0.826255  0.999471"
      ]
     },
     "execution_count": 22,
     "metadata": {},
     "output_type": "execute_result"
    }
   ],
   "source": [
    "ndf = [(Recall, Precision, F1, Accuracy)]\n",
    "\n",
    "score = pd.DataFrame(data = ndf, columns=['Recall','Precision','F1 Score', 'Accuracy'])\n",
    "score.insert(0, 'Models', 'Random Forrests ')\n",
    "score"
   ]
  },
  {
   "cell_type": "code",
   "execution_count": 23,
   "id": "96b5a5cb",
   "metadata": {
    "execution": {
     "iopub.execute_input": "2023-01-06T15:00:11.561521Z",
     "iopub.status.busy": "2023-01-06T15:00:11.561137Z",
     "iopub.status.idle": "2023-01-06T15:00:11.581824Z",
     "shell.execute_reply": "2023-01-06T15:00:11.580656Z"
    },
    "papermill": {
     "duration": 0.035778,
     "end_time": "2023-01-06T15:00:11.584145",
     "exception": false,
     "start_time": "2023-01-06T15:00:11.548367",
     "status": "completed"
    },
    "tags": []
   },
   "outputs": [
    {
     "name": "stdout",
     "output_type": "stream",
     "text": [
      "AUC-ROC Curve for SMOTE-Tomek: 0.8767\n"
     ]
    }
   ],
   "source": [
    "from sklearn.metrics import roc_auc_score\n",
    "ROCAUCscore = roc_auc_score(y_test, y_pred)\n",
    "print(f\"AUC-ROC Curve for SMOTE-Tomek: {ROCAUCscore:.4f}\")"
   ]
  },
  {
   "cell_type": "code",
   "execution_count": 24,
   "id": "4cb8f583",
   "metadata": {
    "execution": {
     "iopub.execute_input": "2023-01-06T15:00:11.608469Z",
     "iopub.status.busy": "2023-01-06T15:00:11.608111Z",
     "iopub.status.idle": "2023-01-06T15:00:12.843788Z",
     "shell.execute_reply": "2023-01-06T15:00:12.842657Z"
    },
    "papermill": {
     "duration": 1.250491,
     "end_time": "2023-01-06T15:00:12.846200",
     "exception": false,
     "start_time": "2023-01-06T15:00:11.595709",
     "status": "completed"
    },
    "tags": []
   },
   "outputs": [
    {
     "data": {
      "image/png": "[encoded data removed]",
      "text/plain": [
       "<Figure size 360x360 with 1 Axes>"
      ]
     },
     "metadata": {},
     "output_type": "display_data"
    }
   ],
   "source": [
    "y_proba = model1.predict_proba(X_test)\n",
    "\n",
    "from sklearn.metrics import roc_curve\n",
    "from sklearn.metrics import RocCurveDisplay\n",
    "def plot_auc_roc_curve(y_test, y_pred):\n",
    "    fpr, tpr, _ = roc_curve(y_test, y_pred)\n",
    "    roc_display = RocCurveDisplay(fpr=fpr, tpr=tpr).plot()\n",
    "    roc_display.figure_.set_size_inches(5,5)\n",
    "    plt.plot([0, 1], [0, 1], color = 'g')\n",
    "# Plots the ROC curve using the sklearn methods - Good plot\n",
    "plot_auc_roc_curve(y_test, y_proba[:, 1])"
   ]
  },
  {
   "cell_type": "code",
   "execution_count": 25,
   "id": "b1b0b4b5",
   "metadata": {
    "execution": {
     "iopub.execute_input": "2023-01-06T15:00:12.872047Z",
     "iopub.status.busy": "2023-01-06T15:00:12.871640Z",
     "iopub.status.idle": "2023-01-06T15:00:14.140713Z",
     "shell.execute_reply": "2023-01-06T15:00:14.139667Z"
    },
    "papermill": {
     "duration": 1.284618,
     "end_time": "2023-01-06T15:00:14.143067",
     "exception": false,
     "start_time": "2023-01-06T15:00:12.858449",
     "status": "completed"
    },
    "tags": []
   },
   "outputs": [
    {
     "data": {
      "image/png": "[encoded data removed]",
      "text/plain": [
       "<Figure size 432x288 with 1 Axes>"
      ]
     },
     "metadata": {},
     "output_type": "display_data"
    }
   ],
   "source": [
    "from sklearn.metrics import precision_recall_curve\n",
    "from sklearn.metrics import PrecisionRecallDisplay\n",
    "\n",
    "display = PrecisionRecallDisplay.from_estimator(model1, X_test, y_test, name=\"Average precision\")\n",
    "_ = display.ax_.set_title(\"Random Forrests\")"
   ]
  },
  {
   "cell_type": "markdown",
   "id": "3054f679",
   "metadata": {
    "papermill": {
     "duration": 0.011883,
     "end_time": "2023-01-06T15:00:14.167420",
     "exception": false,
     "start_time": "2023-01-06T15:00:14.155537",
     "status": "completed"
    },
    "tags": []
   },
   "source": [
    "# Logistic Regresion"
   ]
  },
  {
   "cell_type": "code",
   "execution_count": 26,
   "id": "477e4a96",
   "metadata": {
    "execution": {
     "iopub.execute_input": "2023-01-06T15:00:14.194185Z",
     "iopub.status.busy": "2023-01-06T15:00:14.193233Z",
     "iopub.status.idle": "2023-01-06T15:00:17.450530Z",
     "shell.execute_reply": "2023-01-06T15:00:17.449231Z"
    },
    "papermill": {
     "duration": 3.274439,
     "end_time": "2023-01-06T15:00:17.454031",
     "exception": false,
     "start_time": "2023-01-06T15:00:14.179592",
     "status": "completed"
    },
    "tags": []
   },
   "outputs": [],
   "source": [
    "from sklearn.linear_model import LogisticRegression\n",
    "model2= LogisticRegression()\n",
    "model2=model2.fit(X_train_new,y_train_new)\n",
    "y_pred = model2.predict(X_test_scaled)"
   ]
  },
  {
   "cell_type": "code",
   "execution_count": 27,
   "id": "59282416",
   "metadata": {
    "execution": {
     "iopub.execute_input": "2023-01-06T15:00:17.496797Z",
     "iopub.status.busy": "2023-01-06T15:00:17.496230Z",
     "iopub.status.idle": "2023-01-06T15:00:17.641656Z",
     "shell.execute_reply": "2023-01-06T15:00:17.640209Z"
    },
    "papermill": {
     "duration": 0.170457,
     "end_time": "2023-01-06T15:00:17.645006",
     "exception": false,
     "start_time": "2023-01-06T15:00:17.474549",
     "status": "completed"
    },
    "tags": []
   },
   "outputs": [
    {
     "name": "stdout",
     "output_type": "stream",
     "text": [
      "[[82578  2398]\n",
      " [   17   125]]\n"
     ]
    }
   ],
   "source": [
    "cm = confusion_matrix(y_test, y_pred)\n",
    "\n",
    "Recall = recall_score(y_test, y_pred)\n",
    "Precision = precision_score(y_test, y_pred)\n",
    "F1 = f1_score(y_test, y_pred)\n",
    "Accuracy = accuracy_score(y_test, y_pred)\n",
    "\n",
    "print(cm)"
   ]
  },
  {
   "cell_type": "code",
   "execution_count": 28,
   "id": "35ef2ef2",
   "metadata": {
    "execution": {
     "iopub.execute_input": "2023-01-06T15:00:17.672008Z",
     "iopub.status.busy": "2023-01-06T15:00:17.671218Z",
     "iopub.status.idle": "2023-01-06T15:00:17.686370Z",
     "shell.execute_reply": "2023-01-06T15:00:17.685456Z"
    },
    "papermill": {
     "duration": 0.030777,
     "end_time": "2023-01-06T15:00:17.688559",
     "exception": false,
     "start_time": "2023-01-06T15:00:17.657782",
     "status": "completed"
    },
    "tags": []
   },
   "outputs": [
    {
     "data": {
      "text/html": [
       "<div>\n",
       "<style scoped>\n",
       "    .dataframe tbody tr th:only-of-type {\n",
       "        vertical-align: middle;\n",
       "    }\n",
       "\n",
       "    .dataframe tbody tr th {\n",
       "        vertical-align: top;\n",
       "    }\n",
       "\n",
       "    .dataframe thead th {\n",
       "        text-align: right;\n",
       "    }\n",
       "</style>\n",
       "<table border=\"1\" class=\"dataframe\">\n",
       "  <thead>\n",
       "    <tr style=\"text-align: right;\">\n",
       "      <th></th>\n",
       "      <th>Models</th>\n",
       "      <th>Recall</th>\n",
       "      <th>Precision</th>\n",
       "      <th>F1 Score</th>\n",
       "      <th>Accuracy</th>\n",
       "    </tr>\n",
       "  </thead>\n",
       "  <tbody>\n",
       "    <tr>\n",
       "      <th>0</th>\n",
       "      <td>Logistic Regression</td>\n",
       "      <td>0.880282</td>\n",
       "      <td>0.049544</td>\n",
       "      <td>0.093809</td>\n",
       "      <td>0.971628</td>\n",
       "    </tr>\n",
       "  </tbody>\n",
       "</table>\n",
       "</div>"
      ],
      "text/plain": [
       "                 Models    Recall  Precision  F1 Score  Accuracy\n",
       "0  Logistic Regression   0.880282   0.049544  0.093809  0.971628"
      ]
     },
     "execution_count": 28,
     "metadata": {},
     "output_type": "execute_result"
    }
   ],
   "source": [
    "ndf = [(Recall, Precision, F1, Accuracy)]\n",
    "\n",
    "score = pd.DataFrame(data = ndf, columns=['Recall','Precision','F1 Score', 'Accuracy'])\n",
    "score.insert(0, 'Models', 'Logistic Regression ')\n",
    "score"
   ]
  },
  {
   "cell_type": "code",
   "execution_count": 29,
   "id": "4c4f7a5c",
   "metadata": {
    "execution": {
     "iopub.execute_input": "2023-01-06T15:00:17.715500Z",
     "iopub.status.busy": "2023-01-06T15:00:17.714855Z",
     "iopub.status.idle": "2023-01-06T15:00:17.734900Z",
     "shell.execute_reply": "2023-01-06T15:00:17.734111Z"
    },
    "papermill": {
     "duration": 0.036401,
     "end_time": "2023-01-06T15:00:17.737582",
     "exception": false,
     "start_time": "2023-01-06T15:00:17.701181",
     "status": "completed"
    },
    "tags": []
   },
   "outputs": [
    {
     "name": "stdout",
     "output_type": "stream",
     "text": [
      "AUC-ROC Curve for SMOTE-Tomek: 0.9260\n"
     ]
    }
   ],
   "source": [
    "ROCAUCscore = roc_auc_score(y_test, y_pred)\n",
    "print(f\"AUC-ROC Curve for SMOTE-Tomek: {ROCAUCscore:.4f}\")"
   ]
  },
  {
   "cell_type": "code",
   "execution_count": 30,
   "id": "5526e57a",
   "metadata": {
    "execution": {
     "iopub.execute_input": "2023-01-06T15:00:17.765265Z",
     "iopub.status.busy": "2023-01-06T15:00:17.764711Z",
     "iopub.status.idle": "2023-01-06T15:00:18.046748Z",
     "shell.execute_reply": "2023-01-06T15:00:18.045879Z"
    },
    "papermill": {
     "duration": 0.298085,
     "end_time": "2023-01-06T15:00:18.049182",
     "exception": false,
     "start_time": "2023-01-06T15:00:17.751097",
     "status": "completed"
    },
    "tags": []
   },
   "outputs": [
    {
     "data": {
      "image/png": "[encoded data removed]",
      "text/plain": [
       "<Figure size 360x360 with 1 Axes>"
      ]
     },
     "metadata": {},
     "output_type": "display_data"
    }
   ],
   "source": [
    "y_proba = model2.predict_proba(X_test)\n",
    "# Plots the ROC curve using the sklearn methods - Good plot\n",
    "plot_auc_roc_curve(y_test, y_proba[:, 1])"
   ]
  },
  {
   "cell_type": "code",
   "execution_count": 31,
   "id": "3f9c1e66",
   "metadata": {
    "execution": {
     "iopub.execute_input": "2023-01-06T15:00:18.077151Z",
     "iopub.status.busy": "2023-01-06T15:00:18.076762Z",
     "iopub.status.idle": "2023-01-06T15:00:18.407096Z",
     "shell.execute_reply": "2023-01-06T15:00:18.406254Z"
    },
    "papermill": {
     "duration": 0.346632,
     "end_time": "2023-01-06T15:00:18.409098",
     "exception": false,
     "start_time": "2023-01-06T15:00:18.062466",
     "status": "completed"
    },
    "tags": []
   },
   "outputs": [
    {
     "data": {
      "image/png": "[encoded data removed]",
      "text/plain": [
       "<Figure size 432x288 with 1 Axes>"
      ]
     },
     "metadata": {},
     "output_type": "display_data"
    }
   ],
   "source": [
    "display = PrecisionRecallDisplay.from_estimator(model2, X_test, y_test, name=\"Average precision\")\n",
    "_ = display.ax_.set_title(\"Random Forrests\")"
   ]
  },
  {
   "cell_type": "markdown",
   "id": "7ad70dd6",
   "metadata": {
    "papermill": {
     "duration": 0.013068,
     "end_time": "2023-01-06T15:00:18.435587",
     "exception": false,
     "start_time": "2023-01-06T15:00:18.422519",
     "status": "completed"
    },
    "tags": []
   },
   "source": [
    "# Conclusion"
   ]
  },
  {
   "cell_type": "markdown",
   "id": "b36e29a5",
   "metadata": {
    "papermill": {
     "duration": 0.013003,
     "end_time": "2023-01-06T15:00:18.461835",
     "exception": false,
     "start_time": "2023-01-06T15:00:18.448832",
     "status": "completed"
    },
    "tags": []
   },
   "source": [
    "Random forests was a better model to predict Credit card fraud compared to logistic regression."
   ]
  },
  {
   "cell_type": "markdown",
   "id": "f843bfff",
   "metadata": {
    "papermill": {
     "duration": 0.013028,
     "end_time": "2023-01-06T15:00:18.488103",
     "exception": false,
     "start_time": "2023-01-06T15:00:18.475075",
     "status": "completed"
    },
    "tags": []
   },
   "source": []
  }
 ],
 "metadata": {
  "kernelspec": {
   "display_name": "Python 3",
   "language": "python",
   "name": "python3"
  },
  "language_info": {
   "codemirror_mode": {
    "name": "ipython",
    "version": 3
   },
   "file_extension": ".py",
   "mimetype": "text/x-python",
   "name": "python",
   "nbconvert_exporter": "python",
   "pygments_lexer": "ipython3",
   "version": "3.7.12"
  },
  "papermill": {
   "default_parameters": {},
   "duration": 383.154814,
   "end_time": "2023-01-06T15:00:19.322297",
   "environment_variables": {},
   "exception": null,
   "input_path": "__notebook__.ipynb",
   "output_path": "__notebook__.ipynb",
   "parameters": {},
   "start_time": "2023-01-06T14:53:56.167483",
   "version": "2.3.4"
  }
 },
 "nbformat": 4,
 "nbformat_minor": 5
}
